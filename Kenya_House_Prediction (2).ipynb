{
  "nbformat": 4,
  "nbformat_minor": 0,
  "metadata": {
    "colab": {
      "provenance": []
    },
    "kernelspec": {
      "name": "python3",
      "display_name": "Python 3"
    },
    "language_info": {
      "name": "python"
    }
  },
  "cells": [
    {
      "cell_type": "code",
      "execution_count": null,
      "metadata": {
        "colab": {
          "base_uri": "https://localhost:8080/"
        },
        "id": "NPuvoYEErEfS",
        "outputId": "14e48d3e-636d-4dbe-be42-6c781e5efe2f"
      },
      "outputs": [
        {
          "output_type": "stream",
          "name": "stdout",
          "text": [
            "<class 'pandas.core.frame.DataFrame'>\n",
            "RangeIndex: 12531 entries, 0 to 12530\n",
            "Data columns (total 8 columns):\n",
            " #   Column                  Non-Null Count  Dtype  \n",
            "---  ------                  --------------  -----  \n",
            " 0   Location                12523 non-null  object \n",
            " 1   Other Location Details  12531 non-null  object \n",
            " 2   Size                    2752 non-null   object \n",
            " 3   Bedrooms                12494 non-null  float64\n",
            " 4   Bathrooms               11564 non-null  float64\n",
            " 5   Price                   12515 non-null  object \n",
            " 6   Property Type           12531 non-null  object \n",
            " 7   Purchase Type           12531 non-null  object \n",
            "dtypes: float64(2), object(6)\n",
            "memory usage: 783.3+ KB\n",
            "<class 'pandas.core.frame.DataFrame'>\n",
            "RangeIndex: 9980 entries, 0 to 9979\n",
            "Data columns (total 7 columns):\n",
            " #   Column         Non-Null Count  Dtype \n",
            "---  ------         --------------  ----- \n",
            " 0   Location       9980 non-null   object\n",
            " 1   Beds           9980 non-null   object\n",
            " 2   Baths          9980 non-null   object\n",
            " 3   Toilets        9980 non-null   object\n",
            " 4   Price          9980 non-null   object\n",
            " 5   Property Type  9980 non-null   object\n",
            " 6   Purchase Type  9980 non-null   object\n",
            "dtypes: object(7)\n",
            "memory usage: 545.9+ KB\n",
            "<class 'pandas.core.frame.DataFrame'>\n",
            "RangeIndex: 6728 entries, 0 to 6727\n",
            "Data columns (total 7 columns):\n",
            " #   Column         Non-Null Count  Dtype \n",
            "---  ------         --------------  ----- \n",
            " 0   Location       6728 non-null   object\n",
            " 1   Beds           6728 non-null   object\n",
            " 2   Baths          6728 non-null   object\n",
            " 3   Toilets        6728 non-null   object\n",
            " 4   Price          6728 non-null   object\n",
            " 5   Property Type  6728 non-null   object\n",
            " 6   Purchase Type  6728 non-null   object\n",
            "dtypes: object(7)\n",
            "memory usage: 368.1+ KB\n"
          ]
        },
        {
          "output_type": "execute_result",
          "data": {
            "text/plain": [
              "(None,\n",
              "         Location Other Location Details       Size  ...           Price  Property Type Purchase Type\n",
              " 0  Ongata Rongai          Ongata Rongai        NaN  ...  KSh 16,400,000          House          Sale\n",
              " 1    Windy Ridge                  Karen        NaN  ...  KSh 59,000,000          House          Sale\n",
              " 2        Phase 2               Buruburu        NaN  ...  KSh 13,000,000          House          Sale\n",
              " 3      Lavington              Lavington        NaN  ...  KSh 55,000,000          House          Sale\n",
              " 4     Athi river              Kitengela  10000 ft²  ...  KSh 17,000,000          House          Sale\n",
              " \n",
              " [5 rows x 8 columns],\n",
              "            Bedrooms     Bathrooms\n",
              " count  12494.000000  11564.000000\n",
              " mean       3.232512      3.370806\n",
              " std        1.469876      1.556233\n",
              " min        0.000000      1.000000\n",
              " 25%        2.000000      2.000000\n",
              " 50%        3.000000      3.000000\n",
              " 75%        4.000000      4.000000\n",
              " max       10.000000     10.000000,\n",
              " None,\n",
              "           Location Beds Baths Toilets       Price Property Type Purchase Type\n",
              " 0  Donholm Nairobi    1     1       1  KSh 10,000         House          Rent\n",
              " 1  Donholm Nairobi    2     2       2  KSh 18,000         House          Rent\n",
              " 2  Donholm Nairobi    1     1       1   KSh 6,500         House          Rent\n",
              " 3  Donholm Nairobi    3     3       3  KSh 25,000         House          Rent\n",
              " 4  Donholm Nairobi    2     2       2  KSh 17,000         House          Rent,\n",
              "                 Location  Beds Baths Toilets       Price Property Type Purchase Type\n",
              " count               9980  9980  9980    9980        9980          9980          9980\n",
              " unique              1739    11    12      12         275             3             1\n",
              " top     Kilimani Nairobi     1     1       1  KSh 10,000         House          Rent\n",
              " freq                 343  4231  4698    4613        1024          7490          9980,\n",
              " None,\n",
              "              Location  Beds  Baths  Toilets            Price Property Type Purchase Type\n",
              " 0  Kileleshwa Nairobi     3      3        3   KSh 18,000,000     Apartment          Sale\n",
              " 1   Riverside Nairobi  beds  baths  Toilets  KSh 190,000,000         Other          Sale\n",
              " 2   Parklands Nairobi     3      3        3   KSh 18,000,000     Apartment          Sale\n",
              " 3    Kilimani Nairobi     3      3        3   KSh 22,000,000     Apartment          Sale\n",
              " 4   Parklands Nairobi     4      4        4   KSh 18,000,000     Apartment          Sale,\n",
              "                   Location  Beds Baths Toilets          Price Property Type Purchase Type\n",
              " count                 6728  6728  6728    6728           6728          6728          6728\n",
              " unique                 420    11    12      12            654             3             1\n",
              " top     Kileleshwa Nairobi     3     4       4  KSh 7,000,000     Apartment          Sale\n",
              " freq                  1404  1588  1347    1318            312          5073          6728)"
            ]
          },
          "metadata": {},
          "execution_count": 55
        }
      ],
      "source": [
        "import pandas as pd\n",
        "\n",
        "# Load the datasets\n",
        "buyrentkenya_df = pd.read_csv('buyrentkenya_property_listings.csv')\n",
        "propco_rent_df = pd.read_csv('propco_listings-rent.csv')\n",
        "propco_sale_df = pd.read_csv('propco_listings-sale.csv')\n",
        "\n",
        "# Inspect buyrentkenya_property_listings.csv\n",
        "buyrentkenya_info = buyrentkenya_df.info()\n",
        "buyrentkenya_head = buyrentkenya_df.head()\n",
        "buyrentkenya_describe = buyrentkenya_df.describe()\n",
        "\n",
        "# Inspect propco_listings-rent.csv\n",
        "propco_rent_info = propco_rent_df.info()\n",
        "propco_rent_head = propco_rent_df.head()\n",
        "propco_rent_describe = propco_rent_df.describe()\n",
        "\n",
        "# Inspect propco_listings-sale.csv\n",
        "propco_sale_info = propco_sale_df.info()\n",
        "propco_sale_head = propco_sale_df.head()\n",
        "propco_sale_describe = propco_sale_df.describe()\n",
        "\n",
        "buyrentkenya_info, buyrentkenya_head, buyrentkenya_describe, propco_rent_info, propco_rent_head, propco_rent_describe, propco_sale_info, propco_sale_head, propco_sale_describe\n"
      ]
    },
    {
      "cell_type": "markdown",
      "source": [
        "# New Section"
      ],
      "metadata": {
        "id": "ja_-e5om-oHw"
      }
    },
    {
      "cell_type": "code",
      "source": [
        "import pandas as pd\n",
        "import numpy as np\n",
        "\n",
        "\n",
        "buyrentkenya_df = pd.read_csv('buyrentkenya_property_listings.csv')\n",
        "propco_rent_df = pd.read_csv('propco_listings-rent.csv')\n",
        "propco_sale_df = pd.read_csv('propco_listings-sale.csv')\n",
        "\n",
        "\n",
        "buyrentkenya_df.columns = buyrentkenya_df.columns.str.strip().str.lower().str.replace(' ', '_')\n",
        "propco_rent_df.columns = propco_rent_df.columns.str.strip().str.lower().str.replace(' ', '_')\n",
        "propco_sale_df.columns = propco_sale_df.columns.str.strip().str.lower().str.replace(' ', '_')\n",
        "\n",
        "\n",
        "buyrentkenya_df.dropna(subset=['location'], inplace=True)\n",
        "buyrentkenya_df['bathrooms'].fillna(buyrentkenya_df['bathrooms'].mode()[0], inplace=True)\n",
        "buyrentkenya_df.drop_duplicates(inplace=True)\n",
        "\n",
        "propco_rent_df.drop_duplicates(inplace=True)\n",
        "\n",
        "# For propco_sale_df\n",
        "propco_sale_df.drop_duplicates(inplace=True)\n",
        "\n",
        "# Add a 'source' column to identify the dataset origin\n",
        "buyrentkenya_df['source'] = 'buyrentkenya'\n",
        "propco_rent_df['source'] = 'propco_rent'\n",
        "propco_sale_df['source'] = 'propco_sale'\n",
        "\n",
        "# Merge the datasets\n",
        "merged_df = pd.concat([buyrentkenya_df, propco_rent_df, propco_sale_df], ignore_index=True)\n",
        "\n",
        "# Clean 'price' and 'size' columns\n",
        "merged_df['price'] = merged_df['price'].str.replace('KSh', '').str.replace(',', '')\n",
        "merged_df['price'] = pd.to_numeric(merged_df['price'], errors='coerce')\n",
        "\n",
        "merged_df['size'] = merged_df['size'].str.replace('ft²', '').str.replace(',', '')\n",
        "merged_df['size'] = pd.to_numeric(merged_df['size'], errors='coerce')\n",
        "\n",
        "# Convert remaining numeric columns to numeric types\n",
        "for col in ['beds', 'baths', 'toilets', 'bedrooms', 'bathrooms']:\n",
        "    merged_df[col] = pd.to_numeric(merged_df[col], errors='coerce')\n",
        "\n",
        "# Fill missing values with median\n",
        "for col in ['size', 'price', 'beds', 'baths', 'toilets', 'bedrooms', 'bathrooms']:\n",
        "    median_value = merged_df[col].median()\n",
        "    merged_df[col].fillna(median_value, inplace=True)\n",
        "\n",
        "# Save the cleaned and merged dataframe to a CSV file\n",
        "merged_df.to_csv('cleaned_merged_property_listings.csv', index=False)\n",
        "\n",
        "\n"
      ],
      "metadata": {
        "id": "XfiU046nsop1"
      },
      "execution_count": null,
      "outputs": []
    },
    {
      "cell_type": "code",
      "source": [
        "merged_df.head()"
      ],
      "metadata": {
        "colab": {
          "base_uri": "https://localhost:8080/",
          "height": 261
        },
        "id": "HLpTu8gg9dQD",
        "outputId": "deb4a623-d533-4fcd-d12d-cdd9a5a673e3"
      },
      "execution_count": null,
      "outputs": [
        {
          "output_type": "execute_result",
          "data": {
            "text/plain": [
              "        location other_location_details     size  bedrooms  ...        source  beds baths toilets\n",
              "0  Ongata Rongai          Ongata Rongai   2400.0       4.0  ...  buyrentkenya   2.0   2.0     2.0\n",
              "1    Windy Ridge                  Karen   2400.0       4.0  ...  buyrentkenya   2.0   2.0     2.0\n",
              "2        Phase 2               Buruburu   2400.0       4.0  ...  buyrentkenya   2.0   2.0     2.0\n",
              "3      Lavington              Lavington   2400.0       5.0  ...  buyrentkenya   2.0   2.0     2.0\n",
              "4     Athi river              Kitengela  10000.0       4.0  ...  buyrentkenya   2.0   2.0     2.0\n",
              "\n",
              "[5 rows x 12 columns]"
            ],
            "text/html": [
              "\n",
              "  <div id=\"df-8fc6e542-36af-4bff-82d7-6799deab47ba\" class=\"colab-df-container\">\n",
              "    <div>\n",
              "<style scoped>\n",
              "    .dataframe tbody tr th:only-of-type {\n",
              "        vertical-align: middle;\n",
              "    }\n",
              "\n",
              "    .dataframe tbody tr th {\n",
              "        vertical-align: top;\n",
              "    }\n",
              "\n",
              "    .dataframe thead th {\n",
              "        text-align: right;\n",
              "    }\n",
              "</style>\n",
              "<table border=\"1\" class=\"dataframe\">\n",
              "  <thead>\n",
              "    <tr style=\"text-align: right;\">\n",
              "      <th></th>\n",
              "      <th>location</th>\n",
              "      <th>other_location_details</th>\n",
              "      <th>size</th>\n",
              "      <th>bedrooms</th>\n",
              "      <th>bathrooms</th>\n",
              "      <th>price</th>\n",
              "      <th>property_type</th>\n",
              "      <th>purchase_type</th>\n",
              "      <th>source</th>\n",
              "      <th>beds</th>\n",
              "      <th>baths</th>\n",
              "      <th>toilets</th>\n",
              "    </tr>\n",
              "  </thead>\n",
              "  <tbody>\n",
              "    <tr>\n",
              "      <th>0</th>\n",
              "      <td>Ongata Rongai</td>\n",
              "      <td>Ongata Rongai</td>\n",
              "      <td>2400.0</td>\n",
              "      <td>4.0</td>\n",
              "      <td>2.0</td>\n",
              "      <td>16400000.0</td>\n",
              "      <td>House</td>\n",
              "      <td>Sale</td>\n",
              "      <td>buyrentkenya</td>\n",
              "      <td>2.0</td>\n",
              "      <td>2.0</td>\n",
              "      <td>2.0</td>\n",
              "    </tr>\n",
              "    <tr>\n",
              "      <th>1</th>\n",
              "      <td>Windy Ridge</td>\n",
              "      <td>Karen</td>\n",
              "      <td>2400.0</td>\n",
              "      <td>4.0</td>\n",
              "      <td>4.0</td>\n",
              "      <td>59000000.0</td>\n",
              "      <td>House</td>\n",
              "      <td>Sale</td>\n",
              "      <td>buyrentkenya</td>\n",
              "      <td>2.0</td>\n",
              "      <td>2.0</td>\n",
              "      <td>2.0</td>\n",
              "    </tr>\n",
              "    <tr>\n",
              "      <th>2</th>\n",
              "      <td>Phase 2</td>\n",
              "      <td>Buruburu</td>\n",
              "      <td>2400.0</td>\n",
              "      <td>4.0</td>\n",
              "      <td>2.0</td>\n",
              "      <td>13000000.0</td>\n",
              "      <td>House</td>\n",
              "      <td>Sale</td>\n",
              "      <td>buyrentkenya</td>\n",
              "      <td>2.0</td>\n",
              "      <td>2.0</td>\n",
              "      <td>2.0</td>\n",
              "    </tr>\n",
              "    <tr>\n",
              "      <th>3</th>\n",
              "      <td>Lavington</td>\n",
              "      <td>Lavington</td>\n",
              "      <td>2400.0</td>\n",
              "      <td>5.0</td>\n",
              "      <td>5.0</td>\n",
              "      <td>55000000.0</td>\n",
              "      <td>House</td>\n",
              "      <td>Sale</td>\n",
              "      <td>buyrentkenya</td>\n",
              "      <td>2.0</td>\n",
              "      <td>2.0</td>\n",
              "      <td>2.0</td>\n",
              "    </tr>\n",
              "    <tr>\n",
              "      <th>4</th>\n",
              "      <td>Athi river</td>\n",
              "      <td>Kitengela</td>\n",
              "      <td>10000.0</td>\n",
              "      <td>4.0</td>\n",
              "      <td>4.0</td>\n",
              "      <td>17000000.0</td>\n",
              "      <td>House</td>\n",
              "      <td>Sale</td>\n",
              "      <td>buyrentkenya</td>\n",
              "      <td>2.0</td>\n",
              "      <td>2.0</td>\n",
              "      <td>2.0</td>\n",
              "    </tr>\n",
              "  </tbody>\n",
              "</table>\n",
              "</div>\n",
              "    <div class=\"colab-df-buttons\">\n",
              "\n",
              "  <div class=\"colab-df-container\">\n",
              "    <button class=\"colab-df-convert\" onclick=\"convertToInteractive('df-8fc6e542-36af-4bff-82d7-6799deab47ba')\"\n",
              "            title=\"Convert this dataframe to an interactive table.\"\n",
              "            style=\"display:none;\">\n",
              "\n",
              "  <svg xmlns=\"http://www.w3.org/2000/svg\" height=\"24px\" viewBox=\"0 -960 960 960\">\n",
              "    <path d=\"M120-120v-720h720v720H120Zm60-500h600v-160H180v160Zm220 220h160v-160H400v160Zm0 220h160v-160H400v160ZM180-400h160v-160H180v160Zm440 0h160v-160H620v160ZM180-180h160v-160H180v160Zm440 0h160v-160H620v160Z\"/>\n",
              "  </svg>\n",
              "    </button>\n",
              "\n",
              "  <style>\n",
              "    .colab-df-container {\n",
              "      display:flex;\n",
              "      gap: 12px;\n",
              "    }\n",
              "\n",
              "    .colab-df-convert {\n",
              "      background-color: #E8F0FE;\n",
              "      border: none;\n",
              "      border-radius: 50%;\n",
              "      cursor: pointer;\n",
              "      display: none;\n",
              "      fill: #1967D2;\n",
              "      height: 32px;\n",
              "      padding: 0 0 0 0;\n",
              "      width: 32px;\n",
              "    }\n",
              "\n",
              "    .colab-df-convert:hover {\n",
              "      background-color: #E2EBFA;\n",
              "      box-shadow: 0px 1px 2px rgba(60, 64, 67, 0.3), 0px 1px 3px 1px rgba(60, 64, 67, 0.15);\n",
              "      fill: #174EA6;\n",
              "    }\n",
              "\n",
              "    .colab-df-buttons div {\n",
              "      margin-bottom: 4px;\n",
              "    }\n",
              "\n",
              "    [theme=dark] .colab-df-convert {\n",
              "      background-color: #3B4455;\n",
              "      fill: #D2E3FC;\n",
              "    }\n",
              "\n",
              "    [theme=dark] .colab-df-convert:hover {\n",
              "      background-color: #434B5C;\n",
              "      box-shadow: 0px 1px 3px 1px rgba(0, 0, 0, 0.15);\n",
              "      filter: drop-shadow(0px 1px 2px rgba(0, 0, 0, 0.3));\n",
              "      fill: #FFFFFF;\n",
              "    }\n",
              "  </style>\n",
              "\n",
              "    <script>\n",
              "      const buttonEl =\n",
              "        document.querySelector('#df-8fc6e542-36af-4bff-82d7-6799deab47ba button.colab-df-convert');\n",
              "      buttonEl.style.display =\n",
              "        google.colab.kernel.accessAllowed ? 'block' : 'none';\n",
              "\n",
              "      async function convertToInteractive(key) {\n",
              "        const element = document.querySelector('#df-8fc6e542-36af-4bff-82d7-6799deab47ba');\n",
              "        const dataTable =\n",
              "          await google.colab.kernel.invokeFunction('convertToInteractive',\n",
              "                                                    [key], {});\n",
              "        if (!dataTable) return;\n",
              "\n",
              "        const docLinkHtml = 'Like what you see? Visit the ' +\n",
              "          '<a target=\"_blank\" href=https://colab.research.google.com/notebooks/data_table.ipynb>data table notebook</a>'\n",
              "          + ' to learn more about interactive tables.';\n",
              "        element.innerHTML = '';\n",
              "        dataTable['output_type'] = 'display_data';\n",
              "        await google.colab.output.renderOutput(dataTable, element);\n",
              "        const docLink = document.createElement('div');\n",
              "        docLink.innerHTML = docLinkHtml;\n",
              "        element.appendChild(docLink);\n",
              "      }\n",
              "    </script>\n",
              "  </div>\n",
              "\n",
              "\n",
              "<div id=\"df-5bcdbec6-27f9-4301-911d-0ed6c7a4ad05\">\n",
              "  <button class=\"colab-df-quickchart\" onclick=\"quickchart('df-5bcdbec6-27f9-4301-911d-0ed6c7a4ad05')\"\n",
              "            title=\"Suggest charts\"\n",
              "            style=\"display:none;\">\n",
              "\n",
              "<svg xmlns=\"http://www.w3.org/2000/svg\" height=\"24px\"viewBox=\"0 0 24 24\"\n",
              "     width=\"24px\">\n",
              "    <g>\n",
              "        <path d=\"M19 3H5c-1.1 0-2 .9-2 2v14c0 1.1.9 2 2 2h14c1.1 0 2-.9 2-2V5c0-1.1-.9-2-2-2zM9 17H7v-7h2v7zm4 0h-2V7h2v10zm4 0h-2v-4h2v4z\"/>\n",
              "    </g>\n",
              "</svg>\n",
              "  </button>\n",
              "\n",
              "<style>\n",
              "  .colab-df-quickchart {\n",
              "      --bg-color: #E8F0FE;\n",
              "      --fill-color: #1967D2;\n",
              "      --hover-bg-color: #E2EBFA;\n",
              "      --hover-fill-color: #174EA6;\n",
              "      --disabled-fill-color: #AAA;\n",
              "      --disabled-bg-color: #DDD;\n",
              "  }\n",
              "\n",
              "  [theme=dark] .colab-df-quickchart {\n",
              "      --bg-color: #3B4455;\n",
              "      --fill-color: #D2E3FC;\n",
              "      --hover-bg-color: #434B5C;\n",
              "      --hover-fill-color: #FFFFFF;\n",
              "      --disabled-bg-color: #3B4455;\n",
              "      --disabled-fill-color: #666;\n",
              "  }\n",
              "\n",
              "  .colab-df-quickchart {\n",
              "    background-color: var(--bg-color);\n",
              "    border: none;\n",
              "    border-radius: 50%;\n",
              "    cursor: pointer;\n",
              "    display: none;\n",
              "    fill: var(--fill-color);\n",
              "    height: 32px;\n",
              "    padding: 0;\n",
              "    width: 32px;\n",
              "  }\n",
              "\n",
              "  .colab-df-quickchart:hover {\n",
              "    background-color: var(--hover-bg-color);\n",
              "    box-shadow: 0 1px 2px rgba(60, 64, 67, 0.3), 0 1px 3px 1px rgba(60, 64, 67, 0.15);\n",
              "    fill: var(--button-hover-fill-color);\n",
              "  }\n",
              "\n",
              "  .colab-df-quickchart-complete:disabled,\n",
              "  .colab-df-quickchart-complete:disabled:hover {\n",
              "    background-color: var(--disabled-bg-color);\n",
              "    fill: var(--disabled-fill-color);\n",
              "    box-shadow: none;\n",
              "  }\n",
              "\n",
              "  .colab-df-spinner {\n",
              "    border: 2px solid var(--fill-color);\n",
              "    border-color: transparent;\n",
              "    border-bottom-color: var(--fill-color);\n",
              "    animation:\n",
              "      spin 1s steps(1) infinite;\n",
              "  }\n",
              "\n",
              "  @keyframes spin {\n",
              "    0% {\n",
              "      border-color: transparent;\n",
              "      border-bottom-color: var(--fill-color);\n",
              "      border-left-color: var(--fill-color);\n",
              "    }\n",
              "    20% {\n",
              "      border-color: transparent;\n",
              "      border-left-color: var(--fill-color);\n",
              "      border-top-color: var(--fill-color);\n",
              "    }\n",
              "    30% {\n",
              "      border-color: transparent;\n",
              "      border-left-color: var(--fill-color);\n",
              "      border-top-color: var(--fill-color);\n",
              "      border-right-color: var(--fill-color);\n",
              "    }\n",
              "    40% {\n",
              "      border-color: transparent;\n",
              "      border-right-color: var(--fill-color);\n",
              "      border-top-color: var(--fill-color);\n",
              "    }\n",
              "    60% {\n",
              "      border-color: transparent;\n",
              "      border-right-color: var(--fill-color);\n",
              "    }\n",
              "    80% {\n",
              "      border-color: transparent;\n",
              "      border-right-color: var(--fill-color);\n",
              "      border-bottom-color: var(--fill-color);\n",
              "    }\n",
              "    90% {\n",
              "      border-color: transparent;\n",
              "      border-bottom-color: var(--fill-color);\n",
              "    }\n",
              "  }\n",
              "</style>\n",
              "\n",
              "  <script>\n",
              "    async function quickchart(key) {\n",
              "      const quickchartButtonEl =\n",
              "        document.querySelector('#' + key + ' button');\n",
              "      quickchartButtonEl.disabled = true;  // To prevent multiple clicks.\n",
              "      quickchartButtonEl.classList.add('colab-df-spinner');\n",
              "      try {\n",
              "        const charts = await google.colab.kernel.invokeFunction(\n",
              "            'suggestCharts', [key], {});\n",
              "      } catch (error) {\n",
              "        console.error('Error during call to suggestCharts:', error);\n",
              "      }\n",
              "      quickchartButtonEl.classList.remove('colab-df-spinner');\n",
              "      quickchartButtonEl.classList.add('colab-df-quickchart-complete');\n",
              "    }\n",
              "    (() => {\n",
              "      let quickchartButtonEl =\n",
              "        document.querySelector('#df-5bcdbec6-27f9-4301-911d-0ed6c7a4ad05 button');\n",
              "      quickchartButtonEl.style.display =\n",
              "        google.colab.kernel.accessAllowed ? 'block' : 'none';\n",
              "    })();\n",
              "  </script>\n",
              "</div>\n",
              "\n",
              "    </div>\n",
              "  </div>\n"
            ],
            "application/vnd.google.colaboratory.intrinsic+json": {
              "type": "dataframe",
              "variable_name": "merged_df",
              "summary": "{\n  \"name\": \"merged_df\",\n  \"rows\": 19534,\n  \"fields\": [\n    {\n      \"column\": \"location\",\n      \"properties\": {\n        \"dtype\": \"category\",\n        \"num_unique_values\": 3710,\n        \"samples\": [\n          \"Near naivas supermarket Donholm Nairobi\",\n          \"Cinemax Nyali\",\n          \"Kiambere Road\"\n        ],\n        \"semantic_type\": \"\",\n        \"description\": \"\"\n      }\n    },\n    {\n      \"column\": \"other_location_details\",\n      \"properties\": {\n        \"dtype\": \"category\",\n        \"num_unique_values\": 740,\n        \"samples\": [\n          \"Kajiado\",\n          \"Kinoo, Waiyaki Way, Westlands\",\n          \"mvuli, Westlands Area, Westlands\"\n        ],\n        \"semantic_type\": \"\",\n        \"description\": \"\"\n      }\n    },\n    {\n      \"column\": \"size\",\n      \"properties\": {\n        \"dtype\": \"number\",\n        \"std\": 14302.198060702478,\n        \"min\": 85.0,\n        \"max\": 2000000.0,\n        \"num_unique_values\": 272,\n        \"samples\": [\n          5500.0,\n          1684.0,\n          4582.0\n        ],\n        \"semantic_type\": \"\",\n        \"description\": \"\"\n      }\n    },\n    {\n      \"column\": \"bedrooms\",\n      \"properties\": {\n        \"dtype\": \"number\",\n        \"std\": 1.0632656160789469,\n        \"min\": 0.0,\n        \"max\": 10.0,\n        \"num_unique_values\": 11,\n        \"samples\": [\n          7.0,\n          4.0,\n          1.0\n        ],\n        \"semantic_type\": \"\",\n        \"description\": \"\"\n      }\n    },\n    {\n      \"column\": \"bathrooms\",\n      \"properties\": {\n        \"dtype\": \"number\",\n        \"std\": 1.114577414562609,\n        \"min\": 1.0,\n        \"max\": 10.0,\n        \"num_unique_values\": 10,\n        \"samples\": [\n          9.0,\n          4.0,\n          7.0\n        ],\n        \"semantic_type\": \"\",\n        \"description\": \"\"\n      }\n    },\n    {\n      \"column\": \"price\",\n      \"properties\": {\n        \"dtype\": \"number\",\n        \"std\": 89072974.57530852,\n        \"min\": 0.0,\n        \"max\": 4500000000.0,\n        \"num_unique_values\": 1043,\n        \"samples\": [\n          14888888.0,\n          30200000.0,\n          15288000.0\n        ],\n        \"semantic_type\": \"\",\n        \"description\": \"\"\n      }\n    },\n    {\n      \"column\": \"property_type\",\n      \"properties\": {\n        \"dtype\": \"category\",\n        \"num_unique_values\": 4,\n        \"samples\": [\n          \"Apartment\",\n          \"Other\",\n          \"House\"\n        ],\n        \"semantic_type\": \"\",\n        \"description\": \"\"\n      }\n    },\n    {\n      \"column\": \"purchase_type\",\n      \"properties\": {\n        \"dtype\": \"category\",\n        \"num_unique_values\": 2,\n        \"samples\": [\n          \"Rent\",\n          \"Sale\"\n        ],\n        \"semantic_type\": \"\",\n        \"description\": \"\"\n      }\n    },\n    {\n      \"column\": \"source\",\n      \"properties\": {\n        \"dtype\": \"category\",\n        \"num_unique_values\": 3,\n        \"samples\": [\n          \"buyrentkenya\",\n          \"propco_rent\"\n        ],\n        \"semantic_type\": \"\",\n        \"description\": \"\"\n      }\n    },\n    {\n      \"column\": \"beds\",\n      \"properties\": {\n        \"dtype\": \"number\",\n        \"std\": 0.9375199632749913,\n        \"min\": 0.0,\n        \"max\": 10.0,\n        \"num_unique_values\": 10,\n        \"samples\": [\n          8.0,\n          1.0\n        ],\n        \"semantic_type\": \"\",\n        \"description\": \"\"\n      }\n    },\n    {\n      \"column\": \"baths\",\n      \"properties\": {\n        \"dtype\": \"number\",\n        \"std\": 0.9999841739558195,\n        \"min\": 0.0,\n        \"max\": 10.0,\n        \"num_unique_values\": 11,\n        \"samples\": [\n          0.0,\n          2.0\n        ],\n        \"semantic_type\": \"\",\n        \"description\": \"\"\n      }\n    },\n    {\n      \"column\": \"toilets\",\n      \"properties\": {\n        \"dtype\": \"number\",\n        \"std\": 1.025547523352569,\n        \"min\": 0.0,\n        \"max\": 10.0,\n        \"num_unique_values\": 11,\n        \"samples\": [\n          0.0,\n          2.0\n        ],\n        \"semantic_type\": \"\",\n        \"description\": \"\"\n      }\n    }\n  ]\n}"
            }
          },
          "metadata": {},
          "execution_count": 57
        }
      ]
    },
    {
      "cell_type": "code",
      "source": [
        "merged_df.describe()"
      ],
      "metadata": {
        "colab": {
          "base_uri": "https://localhost:8080/",
          "height": 300
        },
        "id": "zrwkWc119mOu",
        "outputId": "c522bfb8-a3aa-42a5-c570-aeb725a96da6"
      },
      "execution_count": null,
      "outputs": [
        {
          "output_type": "execute_result",
          "data": {
            "text/plain": [
              "               size      bedrooms     bathrooms  ...          beds         baths       toilets\n",
              "count  1.953400e+04  19534.000000  19534.000000  ...  19534.000000  19534.000000  19534.000000\n",
              "mean   2.518347e+03      3.131207      3.142828  ...      2.123221      2.102846      2.086516\n",
              "std    1.430220e+04      1.063266      1.114577  ...      0.937520      0.999984      1.025548\n",
              "min    8.500000e+01      0.000000      1.000000  ...      0.000000      0.000000      0.000000\n",
              "25%    2.400000e+03      3.000000      3.000000  ...      2.000000      2.000000      2.000000\n",
              "50%    2.400000e+03      3.000000      3.000000  ...      2.000000      2.000000      2.000000\n",
              "75%    2.400000e+03      3.000000      3.000000  ...      2.000000      2.000000      2.000000\n",
              "max    2.000000e+06     10.000000     10.000000  ...     10.000000     10.000000     10.000000\n",
              "\n",
              "[8 rows x 7 columns]"
            ],
            "text/html": [
              "\n",
              "  <div id=\"df-6040f4bb-fd5f-48e6-b1b1-8aced9b45e3b\" class=\"colab-df-container\">\n",
              "    <div>\n",
              "<style scoped>\n",
              "    .dataframe tbody tr th:only-of-type {\n",
              "        vertical-align: middle;\n",
              "    }\n",
              "\n",
              "    .dataframe tbody tr th {\n",
              "        vertical-align: top;\n",
              "    }\n",
              "\n",
              "    .dataframe thead th {\n",
              "        text-align: right;\n",
              "    }\n",
              "</style>\n",
              "<table border=\"1\" class=\"dataframe\">\n",
              "  <thead>\n",
              "    <tr style=\"text-align: right;\">\n",
              "      <th></th>\n",
              "      <th>size</th>\n",
              "      <th>bedrooms</th>\n",
              "      <th>bathrooms</th>\n",
              "      <th>price</th>\n",
              "      <th>beds</th>\n",
              "      <th>baths</th>\n",
              "      <th>toilets</th>\n",
              "    </tr>\n",
              "  </thead>\n",
              "  <tbody>\n",
              "    <tr>\n",
              "      <th>count</th>\n",
              "      <td>1.953400e+04</td>\n",
              "      <td>19534.000000</td>\n",
              "      <td>19534.000000</td>\n",
              "      <td>1.953400e+04</td>\n",
              "      <td>19534.000000</td>\n",
              "      <td>19534.000000</td>\n",
              "      <td>19534.000000</td>\n",
              "    </tr>\n",
              "    <tr>\n",
              "      <th>mean</th>\n",
              "      <td>2.518347e+03</td>\n",
              "      <td>3.131207</td>\n",
              "      <td>3.142828</td>\n",
              "      <td>2.301434e+07</td>\n",
              "      <td>2.123221</td>\n",
              "      <td>2.102846</td>\n",
              "      <td>2.086516</td>\n",
              "    </tr>\n",
              "    <tr>\n",
              "      <th>std</th>\n",
              "      <td>1.430220e+04</td>\n",
              "      <td>1.063266</td>\n",
              "      <td>1.114577</td>\n",
              "      <td>8.907297e+07</td>\n",
              "      <td>0.937520</td>\n",
              "      <td>0.999984</td>\n",
              "      <td>1.025548</td>\n",
              "    </tr>\n",
              "    <tr>\n",
              "      <th>min</th>\n",
              "      <td>8.500000e+01</td>\n",
              "      <td>0.000000</td>\n",
              "      <td>1.000000</td>\n",
              "      <td>0.000000e+00</td>\n",
              "      <td>0.000000</td>\n",
              "      <td>0.000000</td>\n",
              "      <td>0.000000</td>\n",
              "    </tr>\n",
              "    <tr>\n",
              "      <th>25%</th>\n",
              "      <td>2.400000e+03</td>\n",
              "      <td>3.000000</td>\n",
              "      <td>3.000000</td>\n",
              "      <td>3.500000e+04</td>\n",
              "      <td>2.000000</td>\n",
              "      <td>2.000000</td>\n",
              "      <td>2.000000</td>\n",
              "    </tr>\n",
              "    <tr>\n",
              "      <th>50%</th>\n",
              "      <td>2.400000e+03</td>\n",
              "      <td>3.000000</td>\n",
              "      <td>3.000000</td>\n",
              "      <td>6.713000e+06</td>\n",
              "      <td>2.000000</td>\n",
              "      <td>2.000000</td>\n",
              "      <td>2.000000</td>\n",
              "    </tr>\n",
              "    <tr>\n",
              "      <th>75%</th>\n",
              "      <td>2.400000e+03</td>\n",
              "      <td>3.000000</td>\n",
              "      <td>3.000000</td>\n",
              "      <td>1.600000e+07</td>\n",
              "      <td>2.000000</td>\n",
              "      <td>2.000000</td>\n",
              "      <td>2.000000</td>\n",
              "    </tr>\n",
              "    <tr>\n",
              "      <th>max</th>\n",
              "      <td>2.000000e+06</td>\n",
              "      <td>10.000000</td>\n",
              "      <td>10.000000</td>\n",
              "      <td>4.500000e+09</td>\n",
              "      <td>10.000000</td>\n",
              "      <td>10.000000</td>\n",
              "      <td>10.000000</td>\n",
              "    </tr>\n",
              "  </tbody>\n",
              "</table>\n",
              "</div>\n",
              "    <div class=\"colab-df-buttons\">\n",
              "\n",
              "  <div class=\"colab-df-container\">\n",
              "    <button class=\"colab-df-convert\" onclick=\"convertToInteractive('df-6040f4bb-fd5f-48e6-b1b1-8aced9b45e3b')\"\n",
              "            title=\"Convert this dataframe to an interactive table.\"\n",
              "            style=\"display:none;\">\n",
              "\n",
              "  <svg xmlns=\"http://www.w3.org/2000/svg\" height=\"24px\" viewBox=\"0 -960 960 960\">\n",
              "    <path d=\"M120-120v-720h720v720H120Zm60-500h600v-160H180v160Zm220 220h160v-160H400v160Zm0 220h160v-160H400v160ZM180-400h160v-160H180v160Zm440 0h160v-160H620v160ZM180-180h160v-160H180v160Zm440 0h160v-160H620v160Z\"/>\n",
              "  </svg>\n",
              "    </button>\n",
              "\n",
              "  <style>\n",
              "    .colab-df-container {\n",
              "      display:flex;\n",
              "      gap: 12px;\n",
              "    }\n",
              "\n",
              "    .colab-df-convert {\n",
              "      background-color: #E8F0FE;\n",
              "      border: none;\n",
              "      border-radius: 50%;\n",
              "      cursor: pointer;\n",
              "      display: none;\n",
              "      fill: #1967D2;\n",
              "      height: 32px;\n",
              "      padding: 0 0 0 0;\n",
              "      width: 32px;\n",
              "    }\n",
              "\n",
              "    .colab-df-convert:hover {\n",
              "      background-color: #E2EBFA;\n",
              "      box-shadow: 0px 1px 2px rgba(60, 64, 67, 0.3), 0px 1px 3px 1px rgba(60, 64, 67, 0.15);\n",
              "      fill: #174EA6;\n",
              "    }\n",
              "\n",
              "    .colab-df-buttons div {\n",
              "      margin-bottom: 4px;\n",
              "    }\n",
              "\n",
              "    [theme=dark] .colab-df-convert {\n",
              "      background-color: #3B4455;\n",
              "      fill: #D2E3FC;\n",
              "    }\n",
              "\n",
              "    [theme=dark] .colab-df-convert:hover {\n",
              "      background-color: #434B5C;\n",
              "      box-shadow: 0px 1px 3px 1px rgba(0, 0, 0, 0.15);\n",
              "      filter: drop-shadow(0px 1px 2px rgba(0, 0, 0, 0.3));\n",
              "      fill: #FFFFFF;\n",
              "    }\n",
              "  </style>\n",
              "\n",
              "    <script>\n",
              "      const buttonEl =\n",
              "        document.querySelector('#df-6040f4bb-fd5f-48e6-b1b1-8aced9b45e3b button.colab-df-convert');\n",
              "      buttonEl.style.display =\n",
              "        google.colab.kernel.accessAllowed ? 'block' : 'none';\n",
              "\n",
              "      async function convertToInteractive(key) {\n",
              "        const element = document.querySelector('#df-6040f4bb-fd5f-48e6-b1b1-8aced9b45e3b');\n",
              "        const dataTable =\n",
              "          await google.colab.kernel.invokeFunction('convertToInteractive',\n",
              "                                                    [key], {});\n",
              "        if (!dataTable) return;\n",
              "\n",
              "        const docLinkHtml = 'Like what you see? Visit the ' +\n",
              "          '<a target=\"_blank\" href=https://colab.research.google.com/notebooks/data_table.ipynb>data table notebook</a>'\n",
              "          + ' to learn more about interactive tables.';\n",
              "        element.innerHTML = '';\n",
              "        dataTable['output_type'] = 'display_data';\n",
              "        await google.colab.output.renderOutput(dataTable, element);\n",
              "        const docLink = document.createElement('div');\n",
              "        docLink.innerHTML = docLinkHtml;\n",
              "        element.appendChild(docLink);\n",
              "      }\n",
              "    </script>\n",
              "  </div>\n",
              "\n",
              "\n",
              "<div id=\"df-a79e1c69-3d07-4ddc-9d46-cd2b489134ba\">\n",
              "  <button class=\"colab-df-quickchart\" onclick=\"quickchart('df-a79e1c69-3d07-4ddc-9d46-cd2b489134ba')\"\n",
              "            title=\"Suggest charts\"\n",
              "            style=\"display:none;\">\n",
              "\n",
              "<svg xmlns=\"http://www.w3.org/2000/svg\" height=\"24px\"viewBox=\"0 0 24 24\"\n",
              "     width=\"24px\">\n",
              "    <g>\n",
              "        <path d=\"M19 3H5c-1.1 0-2 .9-2 2v14c0 1.1.9 2 2 2h14c1.1 0 2-.9 2-2V5c0-1.1-.9-2-2-2zM9 17H7v-7h2v7zm4 0h-2V7h2v10zm4 0h-2v-4h2v4z\"/>\n",
              "    </g>\n",
              "</svg>\n",
              "  </button>\n",
              "\n",
              "<style>\n",
              "  .colab-df-quickchart {\n",
              "      --bg-color: #E8F0FE;\n",
              "      --fill-color: #1967D2;\n",
              "      --hover-bg-color: #E2EBFA;\n",
              "      --hover-fill-color: #174EA6;\n",
              "      --disabled-fill-color: #AAA;\n",
              "      --disabled-bg-color: #DDD;\n",
              "  }\n",
              "\n",
              "  [theme=dark] .colab-df-quickchart {\n",
              "      --bg-color: #3B4455;\n",
              "      --fill-color: #D2E3FC;\n",
              "      --hover-bg-color: #434B5C;\n",
              "      --hover-fill-color: #FFFFFF;\n",
              "      --disabled-bg-color: #3B4455;\n",
              "      --disabled-fill-color: #666;\n",
              "  }\n",
              "\n",
              "  .colab-df-quickchart {\n",
              "    background-color: var(--bg-color);\n",
              "    border: none;\n",
              "    border-radius: 50%;\n",
              "    cursor: pointer;\n",
              "    display: none;\n",
              "    fill: var(--fill-color);\n",
              "    height: 32px;\n",
              "    padding: 0;\n",
              "    width: 32px;\n",
              "  }\n",
              "\n",
              "  .colab-df-quickchart:hover {\n",
              "    background-color: var(--hover-bg-color);\n",
              "    box-shadow: 0 1px 2px rgba(60, 64, 67, 0.3), 0 1px 3px 1px rgba(60, 64, 67, 0.15);\n",
              "    fill: var(--button-hover-fill-color);\n",
              "  }\n",
              "\n",
              "  .colab-df-quickchart-complete:disabled,\n",
              "  .colab-df-quickchart-complete:disabled:hover {\n",
              "    background-color: var(--disabled-bg-color);\n",
              "    fill: var(--disabled-fill-color);\n",
              "    box-shadow: none;\n",
              "  }\n",
              "\n",
              "  .colab-df-spinner {\n",
              "    border: 2px solid var(--fill-color);\n",
              "    border-color: transparent;\n",
              "    border-bottom-color: var(--fill-color);\n",
              "    animation:\n",
              "      spin 1s steps(1) infinite;\n",
              "  }\n",
              "\n",
              "  @keyframes spin {\n",
              "    0% {\n",
              "      border-color: transparent;\n",
              "      border-bottom-color: var(--fill-color);\n",
              "      border-left-color: var(--fill-color);\n",
              "    }\n",
              "    20% {\n",
              "      border-color: transparent;\n",
              "      border-left-color: var(--fill-color);\n",
              "      border-top-color: var(--fill-color);\n",
              "    }\n",
              "    30% {\n",
              "      border-color: transparent;\n",
              "      border-left-color: var(--fill-color);\n",
              "      border-top-color: var(--fill-color);\n",
              "      border-right-color: var(--fill-color);\n",
              "    }\n",
              "    40% {\n",
              "      border-color: transparent;\n",
              "      border-right-color: var(--fill-color);\n",
              "      border-top-color: var(--fill-color);\n",
              "    }\n",
              "    60% {\n",
              "      border-color: transparent;\n",
              "      border-right-color: var(--fill-color);\n",
              "    }\n",
              "    80% {\n",
              "      border-color: transparent;\n",
              "      border-right-color: var(--fill-color);\n",
              "      border-bottom-color: var(--fill-color);\n",
              "    }\n",
              "    90% {\n",
              "      border-color: transparent;\n",
              "      border-bottom-color: var(--fill-color);\n",
              "    }\n",
              "  }\n",
              "</style>\n",
              "\n",
              "  <script>\n",
              "    async function quickchart(key) {\n",
              "      const quickchartButtonEl =\n",
              "        document.querySelector('#' + key + ' button');\n",
              "      quickchartButtonEl.disabled = true;  // To prevent multiple clicks.\n",
              "      quickchartButtonEl.classList.add('colab-df-spinner');\n",
              "      try {\n",
              "        const charts = await google.colab.kernel.invokeFunction(\n",
              "            'suggestCharts', [key], {});\n",
              "      } catch (error) {\n",
              "        console.error('Error during call to suggestCharts:', error);\n",
              "      }\n",
              "      quickchartButtonEl.classList.remove('colab-df-spinner');\n",
              "      quickchartButtonEl.classList.add('colab-df-quickchart-complete');\n",
              "    }\n",
              "    (() => {\n",
              "      let quickchartButtonEl =\n",
              "        document.querySelector('#df-a79e1c69-3d07-4ddc-9d46-cd2b489134ba button');\n",
              "      quickchartButtonEl.style.display =\n",
              "        google.colab.kernel.accessAllowed ? 'block' : 'none';\n",
              "    })();\n",
              "  </script>\n",
              "</div>\n",
              "\n",
              "    </div>\n",
              "  </div>\n"
            ],
            "application/vnd.google.colaboratory.intrinsic+json": {
              "type": "dataframe",
              "summary": "{\n  \"name\": \"merged_df\",\n  \"rows\": 8,\n  \"fields\": [\n    {\n      \"column\": \"size\",\n      \"properties\": {\n        \"dtype\": \"number\",\n        \"std\": 704936.870056515,\n        \"min\": 85.0,\n        \"max\": 2000000.0,\n        \"num_unique_values\": 6,\n        \"samples\": [\n          19534.0,\n          2518.3473942868845,\n          2000000.0\n        ],\n        \"semantic_type\": \"\",\n        \"description\": \"\"\n      }\n    },\n    {\n      \"column\": \"bedrooms\",\n      \"properties\": {\n        \"dtype\": \"number\",\n        \"std\": 6905.141065895447,\n        \"min\": 0.0,\n        \"max\": 19534.0,\n        \"num_unique_values\": 6,\n        \"samples\": [\n          19534.0,\n          3.131207126036654,\n          10.0\n        ],\n        \"semantic_type\": \"\",\n        \"description\": \"\"\n      }\n    },\n    {\n      \"column\": \"bathrooms\",\n      \"properties\": {\n        \"dtype\": \"number\",\n        \"std\": 6905.087317417623,\n        \"min\": 1.0,\n        \"max\": 19534.0,\n        \"num_unique_values\": 6,\n        \"samples\": [\n          19534.0,\n          3.1428278898331117,\n          10.0\n        ],\n        \"semantic_type\": \"\",\n        \"description\": \"\"\n      }\n    },\n    {\n      \"column\": \"price\",\n      \"properties\": {\n        \"dtype\": \"number\",\n        \"std\": 1584457085.1119823,\n        \"min\": 0.0,\n        \"max\": 4500000000.0,\n        \"num_unique_values\": 8,\n        \"samples\": [\n          23014344.736049965,\n          6713000.0,\n          19534.0\n        ],\n        \"semantic_type\": \"\",\n        \"description\": \"\"\n      }\n    },\n    {\n      \"column\": \"beds\",\n      \"properties\": {\n        \"dtype\": \"number\",\n        \"std\": 6905.349896423886,\n        \"min\": 0.0,\n        \"max\": 19534.0,\n        \"num_unique_values\": 6,\n        \"samples\": [\n          19534.0,\n          2.123221050476093,\n          10.0\n        ],\n        \"semantic_type\": \"\",\n        \"description\": \"\"\n      }\n    },\n    {\n      \"column\": \"baths\",\n      \"properties\": {\n        \"dtype\": \"number\",\n        \"std\": 6905.347768571946,\n        \"min\": 0.0,\n        \"max\": 19534.0,\n        \"num_unique_values\": 6,\n        \"samples\": [\n          19534.0,\n          2.1028463192382514,\n          10.0\n        ],\n        \"semantic_type\": \"\",\n        \"description\": \"\"\n      }\n    },\n    {\n      \"column\": \"toilets\",\n      \"properties\": {\n        \"dtype\": \"number\",\n        \"std\": 6905.347301549255,\n        \"min\": 0.0,\n        \"max\": 19534.0,\n        \"num_unique_values\": 6,\n        \"samples\": [\n          19534.0,\n          2.086515818572745,\n          10.0\n        ],\n        \"semantic_type\": \"\",\n        \"description\": \"\"\n      }\n    }\n  ]\n}"
            }
          },
          "metadata": {},
          "execution_count": 58
        }
      ]
    },
    {
      "cell_type": "code",
      "source": [
        "merged_df.info()"
      ],
      "metadata": {
        "colab": {
          "base_uri": "https://localhost:8080/"
        },
        "id": "hV2RCJgi9sWL",
        "outputId": "69f27a39-bdaf-4430-f168-5cfb05266eaa"
      },
      "execution_count": null,
      "outputs": [
        {
          "output_type": "stream",
          "name": "stdout",
          "text": [
            "<class 'pandas.core.frame.DataFrame'>\n",
            "RangeIndex: 19534 entries, 0 to 19533\n",
            "Data columns (total 12 columns):\n",
            " #   Column                  Non-Null Count  Dtype  \n",
            "---  ------                  --------------  -----  \n",
            " 0   location                19534 non-null  object \n",
            " 1   other_location_details  9876 non-null   object \n",
            " 2   size                    19534 non-null  float64\n",
            " 3   bedrooms                19534 non-null  float64\n",
            " 4   bathrooms               19534 non-null  float64\n",
            " 5   price                   19534 non-null  float64\n",
            " 6   property_type           19534 non-null  object \n",
            " 7   purchase_type           19534 non-null  object \n",
            " 8   source                  19534 non-null  object \n",
            " 9   beds                    19534 non-null  float64\n",
            " 10  baths                   19534 non-null  float64\n",
            " 11  toilets                 19534 non-null  float64\n",
            "dtypes: float64(7), object(5)\n",
            "memory usage: 1.8+ MB\n"
          ]
        }
      ]
    },
    {
      "cell_type": "code",
      "source": [
        "from google.colab import files\n",
        "files.download('cleaned_merged_property_listings.csv')"
      ],
      "metadata": {
        "colab": {
          "base_uri": "https://localhost:8080/",
          "height": 17
        },
        "id": "24aVcLtk8MPR",
        "outputId": "7f815e42-7c50-400c-99f3-63d60b799f30"
      },
      "execution_count": null,
      "outputs": [
        {
          "output_type": "display_data",
          "data": {
            "text/plain": [
              "<IPython.core.display.Javascript object>"
            ],
            "application/javascript": [
              "\n",
              "    async function download(id, filename, size) {\n",
              "      if (!google.colab.kernel.accessAllowed) {\n",
              "        return;\n",
              "      }\n",
              "      const div = document.createElement('div');\n",
              "      const label = document.createElement('label');\n",
              "      label.textContent = `Downloading \"${filename}\": `;\n",
              "      div.appendChild(label);\n",
              "      const progress = document.createElement('progress');\n",
              "      progress.max = size;\n",
              "      div.appendChild(progress);\n",
              "      document.body.appendChild(div);\n",
              "\n",
              "      const buffers = [];\n",
              "      let downloaded = 0;\n",
              "\n",
              "      const channel = await google.colab.kernel.comms.open(id);\n",
              "      // Send a message to notify the kernel that we're ready.\n",
              "      channel.send({})\n",
              "\n",
              "      for await (const message of channel.messages) {\n",
              "        // Send a message to notify the kernel that we're ready.\n",
              "        channel.send({})\n",
              "        if (message.buffers) {\n",
              "          for (const buffer of message.buffers) {\n",
              "            buffers.push(buffer);\n",
              "            downloaded += buffer.byteLength;\n",
              "            progress.value = downloaded;\n",
              "          }\n",
              "        }\n",
              "      }\n",
              "      const blob = new Blob(buffers, {type: 'application/binary'});\n",
              "      const a = document.createElement('a');\n",
              "      a.href = window.URL.createObjectURL(blob);\n",
              "      a.download = filename;\n",
              "      div.appendChild(a);\n",
              "      a.click();\n",
              "      div.remove();\n",
              "    }\n",
              "  "
            ]
          },
          "metadata": {}
        },
        {
          "output_type": "display_data",
          "data": {
            "text/plain": [
              "<IPython.core.display.Javascript object>"
            ],
            "application/javascript": [
              "download(\"download_05201635-b2fc-45ee-931a-41f211158459\", \"cleaned_merged_property_listings.csv\", 1692554)"
            ]
          },
          "metadata": {}
        }
      ]
    },
    {
      "cell_type": "code",
      "source": [
        "import pandas as pd\n",
        "import matplotlib.pyplot as plt\n",
        "import seaborn as sns\n",
        "import numpy as np\n",
        "import chardet#for encoding\n",
        "import warnings# to avoid the warnings\n",
        "warnings.filterwarnings('ignore')\n",
        "pd.pandas.set_option('display.max_columns',0)"
      ],
      "metadata": {
        "id": "Y5pnHQxBtUEv"
      },
      "execution_count": null,
      "outputs": []
    },
    {
      "cell_type": "code",
      "source": [
        "with open('cleaned_merged_property_listings.csv', 'rb') as f:\n",
        "    result = chardet.detect(f.read())\n",
        "print(result)"
      ],
      "metadata": {
        "colab": {
          "base_uri": "https://localhost:8080/"
        },
        "id": "82SdPcn3tdlk",
        "outputId": "761d53fe-77e1-4a7b-bf49-bf633547d3b2"
      },
      "execution_count": null,
      "outputs": [
        {
          "output_type": "stream",
          "name": "stdout",
          "text": [
            "{'encoding': 'Windows-1252', 'confidence': 0.73, 'language': ''}\n"
          ]
        }
      ]
    },
    {
      "cell_type": "code",
      "source": [
        "data = pd.read_csv('cleaned_merged_property_listings.csv', encoding='Windows-1252')"
      ],
      "metadata": {
        "id": "EjJYKsvxtlO9"
      },
      "execution_count": null,
      "outputs": []
    },
    {
      "cell_type": "code",
      "source": [
        "data.head()"
      ],
      "metadata": {
        "colab": {
          "base_uri": "https://localhost:8080/",
          "height": 261
        },
        "id": "mvq1McBFt8p7",
        "outputId": "dc84f0bb-0ddb-41be-b959-b5da68a6b279"
      },
      "execution_count": null,
      "outputs": [
        {
          "output_type": "execute_result",
          "data": {
            "text/plain": [
              "        location other_location_details     size  bedrooms  ...        source  beds baths toilets\n",
              "0  Ongata Rongai          Ongata Rongai   2400.0       4.0  ...  buyrentkenya   2.0   2.0     2.0\n",
              "1    Windy Ridge                  Karen   2400.0       4.0  ...  buyrentkenya   2.0   2.0     2.0\n",
              "2        Phase 2               Buruburu   2400.0       4.0  ...  buyrentkenya   2.0   2.0     2.0\n",
              "3      Lavington              Lavington   2400.0       5.0  ...  buyrentkenya   2.0   2.0     2.0\n",
              "4     Athi river              Kitengela  10000.0       4.0  ...  buyrentkenya   2.0   2.0     2.0\n",
              "\n",
              "[5 rows x 12 columns]"
            ],
            "text/html": [
              "\n",
              "  <div id=\"df-290115af-a752-43ec-a949-6e507112f0af\" class=\"colab-df-container\">\n",
              "    <div>\n",
              "<style scoped>\n",
              "    .dataframe tbody tr th:only-of-type {\n",
              "        vertical-align: middle;\n",
              "    }\n",
              "\n",
              "    .dataframe tbody tr th {\n",
              "        vertical-align: top;\n",
              "    }\n",
              "\n",
              "    .dataframe thead th {\n",
              "        text-align: right;\n",
              "    }\n",
              "</style>\n",
              "<table border=\"1\" class=\"dataframe\">\n",
              "  <thead>\n",
              "    <tr style=\"text-align: right;\">\n",
              "      <th></th>\n",
              "      <th>location</th>\n",
              "      <th>other_location_details</th>\n",
              "      <th>size</th>\n",
              "      <th>bedrooms</th>\n",
              "      <th>bathrooms</th>\n",
              "      <th>price</th>\n",
              "      <th>property_type</th>\n",
              "      <th>purchase_type</th>\n",
              "      <th>source</th>\n",
              "      <th>beds</th>\n",
              "      <th>baths</th>\n",
              "      <th>toilets</th>\n",
              "    </tr>\n",
              "  </thead>\n",
              "  <tbody>\n",
              "    <tr>\n",
              "      <th>0</th>\n",
              "      <td>Ongata Rongai</td>\n",
              "      <td>Ongata Rongai</td>\n",
              "      <td>2400.0</td>\n",
              "      <td>4.0</td>\n",
              "      <td>2.0</td>\n",
              "      <td>16400000.0</td>\n",
              "      <td>House</td>\n",
              "      <td>Sale</td>\n",
              "      <td>buyrentkenya</td>\n",
              "      <td>2.0</td>\n",
              "      <td>2.0</td>\n",
              "      <td>2.0</td>\n",
              "    </tr>\n",
              "    <tr>\n",
              "      <th>1</th>\n",
              "      <td>Windy Ridge</td>\n",
              "      <td>Karen</td>\n",
              "      <td>2400.0</td>\n",
              "      <td>4.0</td>\n",
              "      <td>4.0</td>\n",
              "      <td>59000000.0</td>\n",
              "      <td>House</td>\n",
              "      <td>Sale</td>\n",
              "      <td>buyrentkenya</td>\n",
              "      <td>2.0</td>\n",
              "      <td>2.0</td>\n",
              "      <td>2.0</td>\n",
              "    </tr>\n",
              "    <tr>\n",
              "      <th>2</th>\n",
              "      <td>Phase 2</td>\n",
              "      <td>Buruburu</td>\n",
              "      <td>2400.0</td>\n",
              "      <td>4.0</td>\n",
              "      <td>2.0</td>\n",
              "      <td>13000000.0</td>\n",
              "      <td>House</td>\n",
              "      <td>Sale</td>\n",
              "      <td>buyrentkenya</td>\n",
              "      <td>2.0</td>\n",
              "      <td>2.0</td>\n",
              "      <td>2.0</td>\n",
              "    </tr>\n",
              "    <tr>\n",
              "      <th>3</th>\n",
              "      <td>Lavington</td>\n",
              "      <td>Lavington</td>\n",
              "      <td>2400.0</td>\n",
              "      <td>5.0</td>\n",
              "      <td>5.0</td>\n",
              "      <td>55000000.0</td>\n",
              "      <td>House</td>\n",
              "      <td>Sale</td>\n",
              "      <td>buyrentkenya</td>\n",
              "      <td>2.0</td>\n",
              "      <td>2.0</td>\n",
              "      <td>2.0</td>\n",
              "    </tr>\n",
              "    <tr>\n",
              "      <th>4</th>\n",
              "      <td>Athi river</td>\n",
              "      <td>Kitengela</td>\n",
              "      <td>10000.0</td>\n",
              "      <td>4.0</td>\n",
              "      <td>4.0</td>\n",
              "      <td>17000000.0</td>\n",
              "      <td>House</td>\n",
              "      <td>Sale</td>\n",
              "      <td>buyrentkenya</td>\n",
              "      <td>2.0</td>\n",
              "      <td>2.0</td>\n",
              "      <td>2.0</td>\n",
              "    </tr>\n",
              "  </tbody>\n",
              "</table>\n",
              "</div>\n",
              "    <div class=\"colab-df-buttons\">\n",
              "\n",
              "  <div class=\"colab-df-container\">\n",
              "    <button class=\"colab-df-convert\" onclick=\"convertToInteractive('df-290115af-a752-43ec-a949-6e507112f0af')\"\n",
              "            title=\"Convert this dataframe to an interactive table.\"\n",
              "            style=\"display:none;\">\n",
              "\n",
              "  <svg xmlns=\"http://www.w3.org/2000/svg\" height=\"24px\" viewBox=\"0 -960 960 960\">\n",
              "    <path d=\"M120-120v-720h720v720H120Zm60-500h600v-160H180v160Zm220 220h160v-160H400v160Zm0 220h160v-160H400v160ZM180-400h160v-160H180v160Zm440 0h160v-160H620v160ZM180-180h160v-160H180v160Zm440 0h160v-160H620v160Z\"/>\n",
              "  </svg>\n",
              "    </button>\n",
              "\n",
              "  <style>\n",
              "    .colab-df-container {\n",
              "      display:flex;\n",
              "      gap: 12px;\n",
              "    }\n",
              "\n",
              "    .colab-df-convert {\n",
              "      background-color: #E8F0FE;\n",
              "      border: none;\n",
              "      border-radius: 50%;\n",
              "      cursor: pointer;\n",
              "      display: none;\n",
              "      fill: #1967D2;\n",
              "      height: 32px;\n",
              "      padding: 0 0 0 0;\n",
              "      width: 32px;\n",
              "    }\n",
              "\n",
              "    .colab-df-convert:hover {\n",
              "      background-color: #E2EBFA;\n",
              "      box-shadow: 0px 1px 2px rgba(60, 64, 67, 0.3), 0px 1px 3px 1px rgba(60, 64, 67, 0.15);\n",
              "      fill: #174EA6;\n",
              "    }\n",
              "\n",
              "    .colab-df-buttons div {\n",
              "      margin-bottom: 4px;\n",
              "    }\n",
              "\n",
              "    [theme=dark] .colab-df-convert {\n",
              "      background-color: #3B4455;\n",
              "      fill: #D2E3FC;\n",
              "    }\n",
              "\n",
              "    [theme=dark] .colab-df-convert:hover {\n",
              "      background-color: #434B5C;\n",
              "      box-shadow: 0px 1px 3px 1px rgba(0, 0, 0, 0.15);\n",
              "      filter: drop-shadow(0px 1px 2px rgba(0, 0, 0, 0.3));\n",
              "      fill: #FFFFFF;\n",
              "    }\n",
              "  </style>\n",
              "\n",
              "    <script>\n",
              "      const buttonEl =\n",
              "        document.querySelector('#df-290115af-a752-43ec-a949-6e507112f0af button.colab-df-convert');\n",
              "      buttonEl.style.display =\n",
              "        google.colab.kernel.accessAllowed ? 'block' : 'none';\n",
              "\n",
              "      async function convertToInteractive(key) {\n",
              "        const element = document.querySelector('#df-290115af-a752-43ec-a949-6e507112f0af');\n",
              "        const dataTable =\n",
              "          await google.colab.kernel.invokeFunction('convertToInteractive',\n",
              "                                                    [key], {});\n",
              "        if (!dataTable) return;\n",
              "\n",
              "        const docLinkHtml = 'Like what you see? Visit the ' +\n",
              "          '<a target=\"_blank\" href=https://colab.research.google.com/notebooks/data_table.ipynb>data table notebook</a>'\n",
              "          + ' to learn more about interactive tables.';\n",
              "        element.innerHTML = '';\n",
              "        dataTable['output_type'] = 'display_data';\n",
              "        await google.colab.output.renderOutput(dataTable, element);\n",
              "        const docLink = document.createElement('div');\n",
              "        docLink.innerHTML = docLinkHtml;\n",
              "        element.appendChild(docLink);\n",
              "      }\n",
              "    </script>\n",
              "  </div>\n",
              "\n",
              "\n",
              "<div id=\"df-c78910f0-f0ae-472d-bfe7-ac1ccce3122c\">\n",
              "  <button class=\"colab-df-quickchart\" onclick=\"quickchart('df-c78910f0-f0ae-472d-bfe7-ac1ccce3122c')\"\n",
              "            title=\"Suggest charts\"\n",
              "            style=\"display:none;\">\n",
              "\n",
              "<svg xmlns=\"http://www.w3.org/2000/svg\" height=\"24px\"viewBox=\"0 0 24 24\"\n",
              "     width=\"24px\">\n",
              "    <g>\n",
              "        <path d=\"M19 3H5c-1.1 0-2 .9-2 2v14c0 1.1.9 2 2 2h14c1.1 0 2-.9 2-2V5c0-1.1-.9-2-2-2zM9 17H7v-7h2v7zm4 0h-2V7h2v10zm4 0h-2v-4h2v4z\"/>\n",
              "    </g>\n",
              "</svg>\n",
              "  </button>\n",
              "\n",
              "<style>\n",
              "  .colab-df-quickchart {\n",
              "      --bg-color: #E8F0FE;\n",
              "      --fill-color: #1967D2;\n",
              "      --hover-bg-color: #E2EBFA;\n",
              "      --hover-fill-color: #174EA6;\n",
              "      --disabled-fill-color: #AAA;\n",
              "      --disabled-bg-color: #DDD;\n",
              "  }\n",
              "\n",
              "  [theme=dark] .colab-df-quickchart {\n",
              "      --bg-color: #3B4455;\n",
              "      --fill-color: #D2E3FC;\n",
              "      --hover-bg-color: #434B5C;\n",
              "      --hover-fill-color: #FFFFFF;\n",
              "      --disabled-bg-color: #3B4455;\n",
              "      --disabled-fill-color: #666;\n",
              "  }\n",
              "\n",
              "  .colab-df-quickchart {\n",
              "    background-color: var(--bg-color);\n",
              "    border: none;\n",
              "    border-radius: 50%;\n",
              "    cursor: pointer;\n",
              "    display: none;\n",
              "    fill: var(--fill-color);\n",
              "    height: 32px;\n",
              "    padding: 0;\n",
              "    width: 32px;\n",
              "  }\n",
              "\n",
              "  .colab-df-quickchart:hover {\n",
              "    background-color: var(--hover-bg-color);\n",
              "    box-shadow: 0 1px 2px rgba(60, 64, 67, 0.3), 0 1px 3px 1px rgba(60, 64, 67, 0.15);\n",
              "    fill: var(--button-hover-fill-color);\n",
              "  }\n",
              "\n",
              "  .colab-df-quickchart-complete:disabled,\n",
              "  .colab-df-quickchart-complete:disabled:hover {\n",
              "    background-color: var(--disabled-bg-color);\n",
              "    fill: var(--disabled-fill-color);\n",
              "    box-shadow: none;\n",
              "  }\n",
              "\n",
              "  .colab-df-spinner {\n",
              "    border: 2px solid var(--fill-color);\n",
              "    border-color: transparent;\n",
              "    border-bottom-color: var(--fill-color);\n",
              "    animation:\n",
              "      spin 1s steps(1) infinite;\n",
              "  }\n",
              "\n",
              "  @keyframes spin {\n",
              "    0% {\n",
              "      border-color: transparent;\n",
              "      border-bottom-color: var(--fill-color);\n",
              "      border-left-color: var(--fill-color);\n",
              "    }\n",
              "    20% {\n",
              "      border-color: transparent;\n",
              "      border-left-color: var(--fill-color);\n",
              "      border-top-color: var(--fill-color);\n",
              "    }\n",
              "    30% {\n",
              "      border-color: transparent;\n",
              "      border-left-color: var(--fill-color);\n",
              "      border-top-color: var(--fill-color);\n",
              "      border-right-color: var(--fill-color);\n",
              "    }\n",
              "    40% {\n",
              "      border-color: transparent;\n",
              "      border-right-color: var(--fill-color);\n",
              "      border-top-color: var(--fill-color);\n",
              "    }\n",
              "    60% {\n",
              "      border-color: transparent;\n",
              "      border-right-color: var(--fill-color);\n",
              "    }\n",
              "    80% {\n",
              "      border-color: transparent;\n",
              "      border-right-color: var(--fill-color);\n",
              "      border-bottom-color: var(--fill-color);\n",
              "    }\n",
              "    90% {\n",
              "      border-color: transparent;\n",
              "      border-bottom-color: var(--fill-color);\n",
              "    }\n",
              "  }\n",
              "</style>\n",
              "\n",
              "  <script>\n",
              "    async function quickchart(key) {\n",
              "      const quickchartButtonEl =\n",
              "        document.querySelector('#' + key + ' button');\n",
              "      quickchartButtonEl.disabled = true;  // To prevent multiple clicks.\n",
              "      quickchartButtonEl.classList.add('colab-df-spinner');\n",
              "      try {\n",
              "        const charts = await google.colab.kernel.invokeFunction(\n",
              "            'suggestCharts', [key], {});\n",
              "      } catch (error) {\n",
              "        console.error('Error during call to suggestCharts:', error);\n",
              "      }\n",
              "      quickchartButtonEl.classList.remove('colab-df-spinner');\n",
              "      quickchartButtonEl.classList.add('colab-df-quickchart-complete');\n",
              "    }\n",
              "    (() => {\n",
              "      let quickchartButtonEl =\n",
              "        document.querySelector('#df-c78910f0-f0ae-472d-bfe7-ac1ccce3122c button');\n",
              "      quickchartButtonEl.style.display =\n",
              "        google.colab.kernel.accessAllowed ? 'block' : 'none';\n",
              "    })();\n",
              "  </script>\n",
              "</div>\n",
              "\n",
              "    </div>\n",
              "  </div>\n"
            ],
            "application/vnd.google.colaboratory.intrinsic+json": {
              "type": "dataframe",
              "variable_name": "data",
              "summary": "{\n  \"name\": \"data\",\n  \"rows\": 19534,\n  \"fields\": [\n    {\n      \"column\": \"location\",\n      \"properties\": {\n        \"dtype\": \"category\",\n        \"num_unique_values\": 3710,\n        \"samples\": [\n          \"Near naivas supermarket Donholm Nairobi\",\n          \"Cinemax Nyali\",\n          \"Kiambere Road\"\n        ],\n        \"semantic_type\": \"\",\n        \"description\": \"\"\n      }\n    },\n    {\n      \"column\": \"other_location_details\",\n      \"properties\": {\n        \"dtype\": \"category\",\n        \"num_unique_values\": 740,\n        \"samples\": [\n          \"Kajiado\",\n          \"Kinoo, Waiyaki Way, Westlands\",\n          \"mvuli, Westlands Area, Westlands\"\n        ],\n        \"semantic_type\": \"\",\n        \"description\": \"\"\n      }\n    },\n    {\n      \"column\": \"size\",\n      \"properties\": {\n        \"dtype\": \"number\",\n        \"std\": 14302.198060702478,\n        \"min\": 85.0,\n        \"max\": 2000000.0,\n        \"num_unique_values\": 272,\n        \"samples\": [\n          5500.0,\n          1684.0,\n          4582.0\n        ],\n        \"semantic_type\": \"\",\n        \"description\": \"\"\n      }\n    },\n    {\n      \"column\": \"bedrooms\",\n      \"properties\": {\n        \"dtype\": \"number\",\n        \"std\": 1.0632656160789469,\n        \"min\": 0.0,\n        \"max\": 10.0,\n        \"num_unique_values\": 11,\n        \"samples\": [\n          7.0,\n          4.0,\n          1.0\n        ],\n        \"semantic_type\": \"\",\n        \"description\": \"\"\n      }\n    },\n    {\n      \"column\": \"bathrooms\",\n      \"properties\": {\n        \"dtype\": \"number\",\n        \"std\": 1.114577414562609,\n        \"min\": 1.0,\n        \"max\": 10.0,\n        \"num_unique_values\": 10,\n        \"samples\": [\n          9.0,\n          4.0,\n          7.0\n        ],\n        \"semantic_type\": \"\",\n        \"description\": \"\"\n      }\n    },\n    {\n      \"column\": \"price\",\n      \"properties\": {\n        \"dtype\": \"number\",\n        \"std\": 89072974.57530852,\n        \"min\": 0.0,\n        \"max\": 4500000000.0,\n        \"num_unique_values\": 1043,\n        \"samples\": [\n          14888888.0,\n          30200000.0,\n          15288000.0\n        ],\n        \"semantic_type\": \"\",\n        \"description\": \"\"\n      }\n    },\n    {\n      \"column\": \"property_type\",\n      \"properties\": {\n        \"dtype\": \"category\",\n        \"num_unique_values\": 4,\n        \"samples\": [\n          \"Apartment\",\n          \"Other\",\n          \"House\"\n        ],\n        \"semantic_type\": \"\",\n        \"description\": \"\"\n      }\n    },\n    {\n      \"column\": \"purchase_type\",\n      \"properties\": {\n        \"dtype\": \"category\",\n        \"num_unique_values\": 2,\n        \"samples\": [\n          \"Rent\",\n          \"Sale\"\n        ],\n        \"semantic_type\": \"\",\n        \"description\": \"\"\n      }\n    },\n    {\n      \"column\": \"source\",\n      \"properties\": {\n        \"dtype\": \"category\",\n        \"num_unique_values\": 3,\n        \"samples\": [\n          \"buyrentkenya\",\n          \"propco_rent\"\n        ],\n        \"semantic_type\": \"\",\n        \"description\": \"\"\n      }\n    },\n    {\n      \"column\": \"beds\",\n      \"properties\": {\n        \"dtype\": \"number\",\n        \"std\": 0.9375199632749913,\n        \"min\": 0.0,\n        \"max\": 10.0,\n        \"num_unique_values\": 10,\n        \"samples\": [\n          8.0,\n          1.0\n        ],\n        \"semantic_type\": \"\",\n        \"description\": \"\"\n      }\n    },\n    {\n      \"column\": \"baths\",\n      \"properties\": {\n        \"dtype\": \"number\",\n        \"std\": 0.9999841739558195,\n        \"min\": 0.0,\n        \"max\": 10.0,\n        \"num_unique_values\": 11,\n        \"samples\": [\n          0.0,\n          2.0\n        ],\n        \"semantic_type\": \"\",\n        \"description\": \"\"\n      }\n    },\n    {\n      \"column\": \"toilets\",\n      \"properties\": {\n        \"dtype\": \"number\",\n        \"std\": 1.025547523352569,\n        \"min\": 0.0,\n        \"max\": 10.0,\n        \"num_unique_values\": 11,\n        \"samples\": [\n          0.0,\n          2.0\n        ],\n        \"semantic_type\": \"\",\n        \"description\": \"\"\n      }\n    }\n  ]\n}"
            }
          },
          "metadata": {},
          "execution_count": 64
        }
      ]
    },
    {
      "cell_type": "code",
      "source": [
        "data.shape"
      ],
      "metadata": {
        "colab": {
          "base_uri": "https://localhost:8080/"
        },
        "id": "Cc_C7FVNuBKL",
        "outputId": "b6b0eb96-185d-4ffa-ac8b-34ede09b6a12"
      },
      "execution_count": null,
      "outputs": [
        {
          "output_type": "execute_result",
          "data": {
            "text/plain": [
              "(19534, 12)"
            ]
          },
          "metadata": {},
          "execution_count": 65
        }
      ]
    },
    {
      "cell_type": "code",
      "source": [
        "sns.heatmap(data.isnull(),yticklabels=False, cbar=False)"
      ],
      "metadata": {
        "colab": {
          "base_uri": "https://localhost:8080/",
          "height": 585
        },
        "id": "C5keRWREu26g",
        "outputId": "ba1ba1d8-6ec5-4a36-ab36-d4defe8d2160"
      },
      "execution_count": null,
      "outputs": [
        {
          "output_type": "execute_result",
          "data": {
            "text/plain": [
              "<Axes: >"
            ]
          },
          "metadata": {},
          "execution_count": 66
        },
        {
          "output_type": "display_data",
          "data": {
            "text/plain": [
              "<Figure size 640x480 with 1 Axes>"
            ],
            "image/png": "[encoded data removed]"
          },
          "metadata": {}
        }
      ]
    },
    {
      "cell_type": "code",
      "source": [
        "data.bathrooms.unique()"
      ],
      "metadata": {
        "colab": {
          "base_uri": "https://localhost:8080/"
        },
        "id": "CMyG9Gi_vE25",
        "outputId": "0e828d6b-d821-41dd-f183-645d4ddca585"
      },
      "execution_count": null,
      "outputs": [
        {
          "output_type": "execute_result",
          "data": {
            "text/plain": [
              "array([ 2.,  4.,  5.,  3.,  6.,  7., 10.,  8.,  9.,  1.])"
            ]
          },
          "metadata": {},
          "execution_count": 67
        }
      ]
    },
    {
      "cell_type": "code",
      "source": [
        "data.isnull().sum()"
      ],
      "metadata": {
        "colab": {
          "base_uri": "https://localhost:8080/",
          "height": 460
        },
        "id": "8VDaYkKoB1or",
        "outputId": "31eeaa6b-9374-425d-ff3a-bef6a0bb59af"
      },
      "execution_count": null,
      "outputs": [
        {
          "output_type": "execute_result",
          "data": {
            "text/plain": [
              "location                     0\n",
              "other_location_details    9658\n",
              "size                         0\n",
              "bedrooms                     0\n",
              "bathrooms                    0\n",
              "price                        0\n",
              "property_type                0\n",
              "purchase_type                0\n",
              "source                       0\n",
              "beds                         0\n",
              "baths                        0\n",
              "toilets                      0\n",
              "dtype: int64"
            ],
            "text/html": [
              "<table border=\"1\" class=\"dataframe\">\n",
              "  <thead>\n",
              "    <tr style=\"text-align: right;\">\n",
              "      <th></th>\n",
              "      <th>0</th>\n",
              "    </tr>\n",
              "  </thead>\n",
              "  <tbody>\n",
              "    <tr>\n",
              "      <th>location</th>\n",
              "      <td>0</td>\n",
              "    </tr>\n",
              "    <tr>\n",
              "      <th>other_location_details</th>\n",
              "      <td>9658</td>\n",
              "    </tr>\n",
              "    <tr>\n",
              "      <th>size</th>\n",
              "      <td>0</td>\n",
              "    </tr>\n",
              "    <tr>\n",
              "      <th>bedrooms</th>\n",
              "      <td>0</td>\n",
              "    </tr>\n",
              "    <tr>\n",
              "      <th>bathrooms</th>\n",
              "      <td>0</td>\n",
              "    </tr>\n",
              "    <tr>\n",
              "      <th>price</th>\n",
              "      <td>0</td>\n",
              "    </tr>\n",
              "    <tr>\n",
              "      <th>property_type</th>\n",
              "      <td>0</td>\n",
              "    </tr>\n",
              "    <tr>\n",
              "      <th>purchase_type</th>\n",
              "      <td>0</td>\n",
              "    </tr>\n",
              "    <tr>\n",
              "      <th>source</th>\n",
              "      <td>0</td>\n",
              "    </tr>\n",
              "    <tr>\n",
              "      <th>beds</th>\n",
              "      <td>0</td>\n",
              "    </tr>\n",
              "    <tr>\n",
              "      <th>baths</th>\n",
              "      <td>0</td>\n",
              "    </tr>\n",
              "    <tr>\n",
              "      <th>toilets</th>\n",
              "      <td>0</td>\n",
              "    </tr>\n",
              "  </tbody>\n",
              "</table><br><label><b>dtype:</b> int64</label>"
            ]
          },
          "metadata": {},
          "execution_count": 68
        }
      ]
    },
    {
      "cell_type": "code",
      "source": [
        "data['other_location_details'].fillna(data.other_location_details.mode(), inplace=True)"
      ],
      "metadata": {
        "id": "o9gWCm0FCAYm"
      },
      "execution_count": null,
      "outputs": []
    },
    {
      "cell_type": "code",
      "source": [
        "data['other_location_details'].describe()\n"
      ],
      "metadata": {
        "id": "u6pZmYwJCEZ1",
        "colab": {
          "base_uri": "https://localhost:8080/",
          "height": 210
        },
        "outputId": "043a279d-745e-4375-ef1a-d56b486dc66c"
      },
      "execution_count": null,
      "outputs": [
        {
          "output_type": "execute_result",
          "data": {
            "text/plain": [
              "count          9876\n",
              "unique          740\n",
              "top       Westlands\n",
              "freq           2165\n",
              "Name: other_location_details, dtype: object"
            ],
            "text/html": [
              "<table border=\"1\" class=\"dataframe\">\n",
              "  <thead>\n",
              "    <tr style=\"text-align: right;\">\n",
              "      <th></th>\n",
              "      <th>other_location_details</th>\n",
              "    </tr>\n",
              "  </thead>\n",
              "  <tbody>\n",
              "    <tr>\n",
              "      <th>count</th>\n",
              "      <td>9876</td>\n",
              "    </tr>\n",
              "    <tr>\n",
              "      <th>unique</th>\n",
              "      <td>740</td>\n",
              "    </tr>\n",
              "    <tr>\n",
              "      <th>top</th>\n",
              "      <td>Westlands</td>\n",
              "    </tr>\n",
              "    <tr>\n",
              "      <th>freq</th>\n",
              "      <td>2165</td>\n",
              "    </tr>\n",
              "  </tbody>\n",
              "</table><br><label><b>dtype:</b> object</label>"
            ]
          },
          "metadata": {},
          "execution_count": 70
        }
      ]
    },
    {
      "cell_type": "code",
      "source": [
        "data.columns"
      ],
      "metadata": {
        "colab": {
          "base_uri": "https://localhost:8080/"
        },
        "id": "lnsa2jDSvRQt",
        "outputId": "af3e33c6-a138-40ac-bd1a-8a5f26b9f845"
      },
      "execution_count": null,
      "outputs": [
        {
          "output_type": "execute_result",
          "data": {
            "text/plain": [
              "Index(['location', 'other_location_details', 'size', 'bedrooms', 'bathrooms',\n",
              "       'price', 'property_type', 'purchase_type', 'source', 'beds', 'baths',\n",
              "       'toilets'],\n",
              "      dtype='object')"
            ]
          },
          "metadata": {},
          "execution_count": 71
        }
      ]
    },
    {
      "cell_type": "code",
      "source": [
        "df1 = data[[ 'size', 'bedrooms', 'bathrooms',\n",
        "       'price', 'beds', 'baths',\n",
        "       'toilets']]"
      ],
      "metadata": {
        "id": "rfTIkPbPvkWM"
      },
      "execution_count": null,
      "outputs": []
    },
    {
      "cell_type": "code",
      "source": [
        "plt.figure(figsize=(20,20))\n",
        "sns.heatmap(df1.corr(), annot=True, cmap = \"RdYlGn\")\n",
        "plt.show()\n",
        "#"
      ],
      "metadata": {
        "colab": {
          "base_uri": "https://localhost:8080/",
          "height": 1000
        },
        "id": "CKVV2MOCvuSG",
        "outputId": "981af1e8-a6b3-4a15-9be5-f9105c35acfb"
      },
      "execution_count": null,
      "outputs": [
        {
          "output_type": "display_data",
          "data": {
            "text/plain": [
              "<Figure size 2000x2000 with 2 Axes>"
            ],
            "image/png": "[encoded data removed]"
          },
          "metadata": {}
        }
      ]
    },
    {
      "cell_type": "code",
      "source": [
        "sns.kdeplot(data['price'], shade =True)"
      ],
      "metadata": {
        "colab": {
          "base_uri": "https://localhost:8080/",
          "height": 482
        },
        "id": "VC2mjybmwAcf",
        "outputId": "81cae5b3-b7ac-4736-ba54-10b888887218"
      },
      "execution_count": null,
      "outputs": [
        {
          "output_type": "execute_result",
          "data": {
            "text/plain": [
              "<Axes: xlabel='price', ylabel='Density'>"
            ]
          },
          "metadata": {},
          "execution_count": 74
        },
        {
          "output_type": "display_data",
          "data": {
            "text/plain": [
              "<Figure size 640x480 with 1 Axes>"
            ],
            "image/png": "[encoded data removed]"
          },
          "metadata": {}
        }
      ]
    },
    {
      "cell_type": "code",
      "source": [
        "sns.scatterplot(data=data['price'])"
      ],
      "metadata": {
        "colab": {
          "base_uri": "https://localhost:8080/",
          "height": 462
        },
        "id": "R5JkPVqY-3kB",
        "outputId": "5a210221-df71-4e90-c561-4d51ae5afa77"
      },
      "execution_count": null,
      "outputs": [
        {
          "output_type": "execute_result",
          "data": {
            "text/plain": [
              "<Axes: ylabel='price'>"
            ]
          },
          "metadata": {},
          "execution_count": 75
        },
        {
          "output_type": "display_data",
          "data": {
            "text/plain": [
              "<Figure size 640x480 with 1 Axes>"
            ],
            "image/png": "[encoded data removed]"
          },
          "metadata": {}
        }
      ]
    },
    {
      "cell_type": "code",
      "source": [
        "Q1=3.500000e+04\n",
        "Q3=1.600000e+07\n",
        "IQR=Q3-Q1\n",
        "print(\"So,IQR of our totalPrice Features is\",IQR)"
      ],
      "metadata": {
        "colab": {
          "base_uri": "https://localhost:8080/"
        },
        "id": "PeVJUOsa_M1t",
        "outputId": "20f89ca2-028c-4d7d-f2b3-24726fff73c8"
      },
      "execution_count": null,
      "outputs": [
        {
          "output_type": "stream",
          "name": "stdout",
          "text": [
            "So,IQR of our totalPrice Features is 15965000.0\n"
          ]
        }
      ]
    },
    {
      "cell_type": "code",
      "source": [
        "data.price.describe()"
      ],
      "metadata": {
        "colab": {
          "base_uri": "https://localhost:8080/",
          "height": 335
        },
        "id": "ufcMLEyRwvW2",
        "outputId": "03433bac-e4d0-4b75-c288-e59fcd44c083"
      },
      "execution_count": null,
      "outputs": [
        {
          "output_type": "execute_result",
          "data": {
            "text/plain": [
              "count    1.953400e+04\n",
              "mean     2.301434e+07\n",
              "std      8.907297e+07\n",
              "min      0.000000e+00\n",
              "25%      3.500000e+04\n",
              "50%      6.713000e+06\n",
              "75%      1.600000e+07\n",
              "max      4.500000e+09\n",
              "Name: price, dtype: float64"
            ],
            "text/html": [
              "<table border=\"1\" class=\"dataframe\">\n",
              "  <thead>\n",
              "    <tr style=\"text-align: right;\">\n",
              "      <th></th>\n",
              "      <th>price</th>\n",
              "    </tr>\n",
              "  </thead>\n",
              "  <tbody>\n",
              "    <tr>\n",
              "      <th>count</th>\n",
              "      <td>1.953400e+04</td>\n",
              "    </tr>\n",
              "    <tr>\n",
              "      <th>mean</th>\n",
              "      <td>2.301434e+07</td>\n",
              "    </tr>\n",
              "    <tr>\n",
              "      <th>std</th>\n",
              "      <td>8.907297e+07</td>\n",
              "    </tr>\n",
              "    <tr>\n",
              "      <th>min</th>\n",
              "      <td>0.000000e+00</td>\n",
              "    </tr>\n",
              "    <tr>\n",
              "      <th>25%</th>\n",
              "      <td>3.500000e+04</td>\n",
              "    </tr>\n",
              "    <tr>\n",
              "      <th>50%</th>\n",
              "      <td>6.713000e+06</td>\n",
              "    </tr>\n",
              "    <tr>\n",
              "      <th>75%</th>\n",
              "      <td>1.600000e+07</td>\n",
              "    </tr>\n",
              "    <tr>\n",
              "      <th>max</th>\n",
              "      <td>4.500000e+09</td>\n",
              "    </tr>\n",
              "  </tbody>\n",
              "</table><br><label><b>dtype:</b> float64</label>"
            ]
          },
          "metadata": {},
          "execution_count": 77
        }
      ]
    },
    {
      "cell_type": "code",
      "source": [
        "sns.scatterplot(x=data['size'], y=data['price'], hue=data['purchase_type'])"
      ],
      "metadata": {
        "colab": {
          "base_uri": "https://localhost:8080/",
          "height": 482
        },
        "id": "pahUHlPrw5fJ",
        "outputId": "643cd353-8a0f-473b-ee09-80139874aee0"
      },
      "execution_count": null,
      "outputs": [
        {
          "output_type": "execute_result",
          "data": {
            "text/plain": [
              "<Axes: xlabel='size', ylabel='price'>"
            ]
          },
          "metadata": {},
          "execution_count": 78
        },
        {
          "output_type": "display_data",
          "data": {
            "text/plain": [
              "<Figure size 640x480 with 1 Axes>"
            ],
            "image/png": "[encoded data removed]"
          },
          "metadata": {}
        }
      ]
    },
    {
      "cell_type": "code",
      "source": [
        "High=Q3+1.5*IQR\n",
        "Low=Q1-1.5*IQR\n",
        "print(\"High value of our totalPrice Features is\",High)\n",
        "print(\"Low value of our totalPrice Features is\",Low)"
      ],
      "metadata": {
        "colab": {
          "base_uri": "https://localhost:8080/"
        },
        "id": "C8dB4oCp_221",
        "outputId": "f330f59d-dec2-4b17-bc59-ca03c5f7a92d"
      },
      "execution_count": null,
      "outputs": [
        {
          "output_type": "stream",
          "name": "stdout",
          "text": [
            "High value of our totalPrice Features is 39947500.0\n",
            "Low value of our totalPrice Features is -23912500.0\n"
          ]
        }
      ]
    },
    {
      "cell_type": "code",
      "source": [
        "df = data.copy()"
      ],
      "metadata": {
        "id": "ZF5blMrc_j6S"
      },
      "execution_count": null,
      "outputs": []
    },
    {
      "cell_type": "code",
      "source": [
        "df=df[df['price']<=High]\n",
        "df=df[df['price']>=Low]"
      ],
      "metadata": {
        "id": "LZfTr2z__q0n"
      },
      "execution_count": null,
      "outputs": []
    },
    {
      "cell_type": "code",
      "source": [
        "sns.scatterplot(data=df['price'])"
      ],
      "metadata": {
        "colab": {
          "base_uri": "https://localhost:8080/",
          "height": 462
        },
        "id": "8wgqYykyxT9D",
        "outputId": "9e042bf1-37d7-4975-dbad-cc1ba93e1a5b"
      },
      "execution_count": null,
      "outputs": [
        {
          "output_type": "execute_result",
          "data": {
            "text/plain": [
              "<Axes: ylabel='price'>"
            ]
          },
          "metadata": {},
          "execution_count": 82
        },
        {
          "output_type": "display_data",
          "data": {
            "text/plain": [
              "<Figure size 640x480 with 1 Axes>"
            ],
            "image/png": "[encoded data removed]"
          },
          "metadata": {}
        }
      ]
    },
    {
      "cell_type": "code",
      "source": [
        "print(data.shape)\n",
        "print(df.shape)"
      ],
      "metadata": {
        "colab": {
          "base_uri": "https://localhost:8080/"
        },
        "id": "PAkyGN7GAIE5",
        "outputId": "a0b838f1-1975-4b8d-b7f5-08ce38e0d0d8"
      },
      "execution_count": null,
      "outputs": [
        {
          "output_type": "stream",
          "name": "stdout",
          "text": [
            "(19534, 12)\n",
            "(17141, 12)\n"
          ]
        }
      ]
    },
    {
      "cell_type": "code",
      "source": [
        "print(\"Total outlier Removed =\",data.shape[0]-df.shape[0])"
      ],
      "metadata": {
        "colab": {
          "base_uri": "https://localhost:8080/"
        },
        "id": "-r7fgAB7ASEb",
        "outputId": "967ca780-cf3f-45e1-d371-98382058d248"
      },
      "execution_count": null,
      "outputs": [
        {
          "output_type": "stream",
          "name": "stdout",
          "text": [
            "Total outlier Removed = 2393\n"
          ]
        }
      ]
    },
    {
      "cell_type": "code",
      "source": [
        "df.columns"
      ],
      "metadata": {
        "colab": {
          "base_uri": "https://localhost:8080/"
        },
        "id": "nkvyBwscAYZE",
        "outputId": "db0a6a2d-5a77-4943-ef9c-54d99f174380"
      },
      "execution_count": null,
      "outputs": [
        {
          "output_type": "execute_result",
          "data": {
            "text/plain": [
              "Index(['location', 'other_location_details', 'size', 'bedrooms', 'bathrooms',\n",
              "       'price', 'property_type', 'purchase_type', 'source', 'beds', 'baths',\n",
              "       'toilets'],\n",
              "      dtype='object')"
            ]
          },
          "metadata": {},
          "execution_count": 85
        }
      ]
    },
    {
      "cell_type": "code",
      "source": [
        "df.drop(['other_location_details'], axis=1, inplace=True)"
      ],
      "metadata": {
        "id": "D_KzDDYXDNJQ"
      },
      "execution_count": null,
      "outputs": []
    },
    {
      "cell_type": "code",
      "source": [
        "X=df.drop('price',axis=1)\n",
        "y=df['price']"
      ],
      "metadata": {
        "id": "f-bIYf-fAqGn"
      },
      "execution_count": null,
      "outputs": []
    },
    {
      "cell_type": "code",
      "source": [
        "df.isnull().sum()"
      ],
      "metadata": {
        "colab": {
          "base_uri": "https://localhost:8080/",
          "height": 429
        },
        "id": "ej5zMkOKDFU2",
        "outputId": "c5f53145-676a-4678-ddcd-fce8001cc8d5"
      },
      "execution_count": null,
      "outputs": [
        {
          "output_type": "execute_result",
          "data": {
            "text/plain": [
              "location         0\n",
              "size             0\n",
              "bedrooms         0\n",
              "bathrooms        0\n",
              "price            0\n",
              "property_type    0\n",
              "purchase_type    0\n",
              "source           0\n",
              "beds             0\n",
              "baths            0\n",
              "toilets          0\n",
              "dtype: int64"
            ],
            "text/html": [
              "<table border=\"1\" class=\"dataframe\">\n",
              "  <thead>\n",
              "    <tr style=\"text-align: right;\">\n",
              "      <th></th>\n",
              "      <th>0</th>\n",
              "    </tr>\n",
              "  </thead>\n",
              "  <tbody>\n",
              "    <tr>\n",
              "      <th>location</th>\n",
              "      <td>0</td>\n",
              "    </tr>\n",
              "    <tr>\n",
              "      <th>size</th>\n",
              "      <td>0</td>\n",
              "    </tr>\n",
              "    <tr>\n",
              "      <th>bedrooms</th>\n",
              "      <td>0</td>\n",
              "    </tr>\n",
              "    <tr>\n",
              "      <th>bathrooms</th>\n",
              "      <td>0</td>\n",
              "    </tr>\n",
              "    <tr>\n",
              "      <th>price</th>\n",
              "      <td>0</td>\n",
              "    </tr>\n",
              "    <tr>\n",
              "      <th>property_type</th>\n",
              "      <td>0</td>\n",
              "    </tr>\n",
              "    <tr>\n",
              "      <th>purchase_type</th>\n",
              "      <td>0</td>\n",
              "    </tr>\n",
              "    <tr>\n",
              "      <th>source</th>\n",
              "      <td>0</td>\n",
              "    </tr>\n",
              "    <tr>\n",
              "      <th>beds</th>\n",
              "      <td>0</td>\n",
              "    </tr>\n",
              "    <tr>\n",
              "      <th>baths</th>\n",
              "      <td>0</td>\n",
              "    </tr>\n",
              "    <tr>\n",
              "      <th>toilets</th>\n",
              "      <td>0</td>\n",
              "    </tr>\n",
              "  </tbody>\n",
              "</table><br><label><b>dtype:</b> int64</label>"
            ]
          },
          "metadata": {},
          "execution_count": 88
        }
      ]
    },
    {
      "cell_type": "code",
      "source": [
        "\n",
        "import pandas as pd\n",
        "from sklearn.ensemble import ExtraTreesRegressor\n",
        "from sklearn.preprocessing import OneHotEncoder\n",
        "from sklearn.impute import SimpleImputer\n",
        "\n",
        "categorical_cols = df.select_dtypes(include=['object']).columns.tolist()\n",
        "\n",
        "ohe = OneHotEncoder(handle_unknown='ignore')\n",
        "encoded_features = ohe.fit_transform(df[categorical_cols]).toarray()\n",
        "\n",
        "encoded_df = pd.DataFrame(encoded_features,\n",
        "                          columns=ohe.get_feature_names_out(categorical_cols))\n",
        "\n",
        "df = df.drop(categorical_cols, axis=1)\n",
        "df = pd.concat([df, encoded_df], axis=1)\n",
        "\n",
        "\n",
        "imputer = SimpleImputer(strategy='mean')\n",
        "df_imputed = pd.DataFrame(imputer.fit_transform(df))\n",
        "df_imputed.columns = df.columns\n",
        "\n",
        "X = df_imputed.drop('price', axis=1)\n",
        "y = df_imputed['price']\n",
        "\n",
        "model = ExtraTreesRegressor()\n",
        "model.fit(X, y)\n",
        "\n",
        "feature_importances = pd.Series(model.feature_importances_, index=X.columns)\n",
        "feature_importances.nlargest(10).plot(kind='barh')\n",
        "plt.show()"
      ],
      "metadata": {
        "colab": {
          "base_uri": "https://localhost:8080/",
          "height": 430
        },
        "id": "O7Ofi5C4KQCf",
        "outputId": "2f526fb9-a3f3-4320-d198-d660ca731aa8"
      },
      "execution_count": null,
      "outputs": [
        {
          "output_type": "display_data",
          "data": {
            "text/plain": [
              "<Figure size 640x480 with 1 Axes>"
            ],
            "image/png": "[encoded data removed]"
          },
          "metadata": {}
        }
      ]
    },
    {
      "cell_type": "code",
      "source": [
        "df.select_dtypes(include=['object']).columns.tolist()"
      ],
      "metadata": {
        "colab": {
          "base_uri": "https://localhost:8080/"
        },
        "id": "OZPGSA9HIyM9",
        "outputId": "5d98de7d-e455-4fc7-8e72-b87ee58ebc6a"
      },
      "execution_count": null,
      "outputs": [
        {
          "output_type": "execute_result",
          "data": {
            "text/plain": [
              "['property_type', 'purchase_type', 'source']"
            ]
          },
          "metadata": {},
          "execution_count": 42
        }
      ]
    },
    {
      "cell_type": "code",
      "source": [
        "X = data.drop('price', axis=1)\n",
        "y = data['price']"
      ],
      "metadata": {
        "id": "Q3ir8h13yoLc"
      },
      "execution_count": null,
      "outputs": []
    },
    {
      "cell_type": "code",
      "source": [
        "import pandas as pd\n",
        "from sklearn.ensemble import ExtraTreesRegressor\n",
        "from sklearn.preprocessing import OneHotEncoder\n",
        "from sklearn.impute import SimpleImputer\n",
        "from sklearn.linear_model import LinearRegression\n",
        "from sklearn.model_selection import train_test_split\n",
        "\n",
        "categorical_cols = df.select_dtypes(include=['object']).columns.tolist()\n",
        "\n",
        "ohe = OneHotEncoder(handle_unknown='ignore')\n",
        "encoded_features = ohe.fit_transform(df[categorical_cols]).toarray()\n",
        "\n",
        "encoded_df = pd.DataFrame(encoded_features,\n",
        "                          columns=ohe.get_feature_names_out(categorical_cols))\n",
        "\n",
        "df = df.drop(categorical_cols, axis=1)\n",
        "df = pd.concat([df, encoded_df], axis=1)\n",
        "\n",
        "imputer = SimpleImputer(strategy='mean')\n",
        "df_imputed = pd.DataFrame(imputer.fit_transform(df))\n",
        "df_imputed.columns = df.columns\n",
        "X = df_imputed.drop('price', axis=1)\n",
        "y = df_imputed['price']\n",
        "\n",
        "\n",
        "X_train, X_test, y_train, y_test = train_test_split(X, y, test_size=0.2, random_state=42)\n",
        "\n",
        "lr_model = LinearRegression()\n",
        "lr_model.fit(X_train, y_train)\n",
        "print(\"By using Linear Regression I got\")\n",
        "print(\"Training Score:\", lr_model.score(X_train, y_train))\n",
        "print(\"Testing Score:\", lr_model.score(X_test, y_test))"
      ],
      "metadata": {
        "colab": {
          "base_uri": "https://localhost:8080/"
        },
        "id": "JCfMIi-LzX9R",
        "outputId": "8fad98c0-a235-4dcf-8bb8-0391baf79850"
      },
      "execution_count": null,
      "outputs": [
        {
          "output_type": "stream",
          "name": "stdout",
          "text": [
            "By using Linear Regression I got\n",
            "Training Score: 0.516562519120578\n",
            "Testing Score: -11208537818056.738\n"
          ]
        }
      ]
    },
    {
      "cell_type": "code",
      "source": [
        "from sklearn.ensemble import RandomForestRegressor\n",
        "rfm=RandomForestRegressor()\n",
        "rfm.fit(X_train,y_train)"
      ],
      "metadata": {
        "colab": {
          "base_uri": "https://localhost:8080/",
          "height": 75
        },
        "id": "Er3d8oEc3Cjg",
        "outputId": "93bde095-3e27-4f4b-fa4c-fe044ca2b88f"
      },
      "execution_count": null,
      "outputs": [
        {
          "output_type": "execute_result",
          "data": {
            "text/plain": [
              "RandomForestRegressor()"
            ],
            "text/html": [
              "<style>#sk-container-id-1 {color: black;}#sk-container-id-1 pre{padding: 0;}#sk-container-id-1 div.sk-toggleable {background-color: white;}#sk-container-id-1 label.sk-toggleable__label {cursor: pointer;display: block;width: 100%;margin-bottom: 0;padding: 0.3em;box-sizing: border-box;text-align: center;}#sk-container-id-1 label.sk-toggleable__label-arrow:before {content: \"▸\";float: left;margin-right: 0.25em;color: #696969;}#sk-container-id-1 label.sk-toggleable__label-arrow:hover:before {color: black;}#sk-container-id-1 div.sk-estimator:hover label.sk-toggleable__label-arrow:before {color: black;}#sk-container-id-1 div.sk-toggleable__content {max-height: 0;max-width: 0;overflow: hidden;text-align: left;background-color: #f0f8ff;}#sk-container-id-1 div.sk-toggleable__content pre {margin: 0.2em;color: black;border-radius: 0.25em;background-color: #f0f8ff;}#sk-container-id-1 input.sk-toggleable__control:checked~div.sk-toggleable__content {max-height: 200px;max-width: 100%;overflow: auto;}#sk-container-id-1 input.sk-toggleable__control:checked~label.sk-toggleable__label-arrow:before {content: \"▾\";}#sk-container-id-1 div.sk-estimator input.sk-toggleable__control:checked~label.sk-toggleable__label {background-color: #d4ebff;}#sk-container-id-1 div.sk-label input.sk-toggleable__control:checked~label.sk-toggleable__label {background-color: #d4ebff;}#sk-container-id-1 input.sk-hidden--visually {border: 0;clip: rect(1px 1px 1px 1px);clip: rect(1px, 1px, 1px, 1px);height: 1px;margin: -1px;overflow: hidden;padding: 0;position: absolute;width: 1px;}#sk-container-id-1 div.sk-estimator {font-family: monospace;background-color: #f0f8ff;border: 1px dotted black;border-radius: 0.25em;box-sizing: border-box;margin-bottom: 0.5em;}#sk-container-id-1 div.sk-estimator:hover {background-color: #d4ebff;}#sk-container-id-1 div.sk-parallel-item::after {content: \"\";width: 100%;border-bottom: 1px solid gray;flex-grow: 1;}#sk-container-id-1 div.sk-label:hover label.sk-toggleable__label {background-color: #d4ebff;}#sk-container-id-1 div.sk-serial::before {content: \"\";position: absolute;border-left: 1px solid gray;box-sizing: border-box;top: 0;bottom: 0;left: 50%;z-index: 0;}#sk-container-id-1 div.sk-serial {display: flex;flex-direction: column;align-items: center;background-color: white;padding-right: 0.2em;padding-left: 0.2em;position: relative;}#sk-container-id-1 div.sk-item {position: relative;z-index: 1;}#sk-container-id-1 div.sk-parallel {display: flex;align-items: stretch;justify-content: center;background-color: white;position: relative;}#sk-container-id-1 div.sk-item::before, #sk-container-id-1 div.sk-parallel-item::before {content: \"\";position: absolute;border-left: 1px solid gray;box-sizing: border-box;top: 0;bottom: 0;left: 50%;z-index: -1;}#sk-container-id-1 div.sk-parallel-item {display: flex;flex-direction: column;z-index: 1;position: relative;background-color: white;}#sk-container-id-1 div.sk-parallel-item:first-child::after {align-self: flex-end;width: 50%;}#sk-container-id-1 div.sk-parallel-item:last-child::after {align-self: flex-start;width: 50%;}#sk-container-id-1 div.sk-parallel-item:only-child::after {width: 0;}#sk-container-id-1 div.sk-dashed-wrapped {border: 1px dashed gray;margin: 0 0.4em 0.5em 0.4em;box-sizing: border-box;padding-bottom: 0.4em;background-color: white;}#sk-container-id-1 div.sk-label label {font-family: monospace;font-weight: bold;display: inline-block;line-height: 1.2em;}#sk-container-id-1 div.sk-label-container {text-align: center;}#sk-container-id-1 div.sk-container {/* jupyter's `normalize.less` sets `[hidden] { display: none; }` but bootstrap.min.css set `[hidden] { display: none !important; }` so we also need the `!important` here to be able to override the default hidden behavior on the sphinx rendered scikit-learn.org. See: https://github.com/scikit-learn/scikit-learn/issues/21755 */display: inline-block !important;position: relative;}#sk-container-id-1 div.sk-text-repr-fallback {display: none;}</style><div id=\"sk-container-id-1\" class=\"sk-top-container\"><div class=\"sk-text-repr-fallback\"><pre>RandomForestRegressor()</pre><b>In a Jupyter environment, please rerun this cell to show the HTML representation or trust the notebook. <br />On GitHub, the HTML representation is unable to render, please try loading this page with nbviewer.org.</b></div><div class=\"sk-container\" hidden><div class=\"sk-item\"><div class=\"sk-estimator sk-toggleable\"><input class=\"sk-toggleable__control sk-hidden--visually\" id=\"sk-estimator-id-1\" type=\"checkbox\" checked><label for=\"sk-estimator-id-1\" class=\"sk-toggleable__label sk-toggleable__label-arrow\">RandomForestRegressor</label><div class=\"sk-toggleable__content\"><pre>RandomForestRegressor()</pre></div></div></div></div></div>"
            ]
          },
          "metadata": {},
          "execution_count": 95
        }
      ]
    },
    {
      "cell_type": "code",
      "source": [
        "from sklearn.preprocessing import StandardScaler\n",
        "\n",
        "scaler = StandardScaler()\n",
        "X_train_scaled = scaler.fit_transform(X_train)\n",
        "X_test_scaled = scaler.transform(X_test)\n",
        "\n",
        "# Fit the model\n",
        "rfm = RandomForestRegressor()\n",
        "rfm.fit(X_train_scaled, y_train)\n",
        "\n",
        "# Evaluate the model\n",
        "print(\"Training Score:\", rfm.score(X_train_scaled, y_train))\n",
        "print(\"Testing Score:\", rfm.score(X_test_scaled, y_test))\n"
      ],
      "metadata": {
        "colab": {
          "base_uri": "https://localhost:8080/"
        },
        "id": "W6BDKwzR80tp",
        "outputId": "bf195641-34d2-4705-8f71-2388b8c8506c"
      },
      "execution_count": null,
      "outputs": [
        {
          "output_type": "stream",
          "name": "stdout",
          "text": [
            "Training Score: 0.8064672462238593\n",
            "Testing Score: 0.595196492747424\n"
          ]
        }
      ]
    },
    {
      "cell_type": "code",
      "source": [
        "predictions = rfm.predict(X_test_scaled)"
      ],
      "metadata": {
        "id": "ajRR-jXk60dY"
      },
      "execution_count": null,
      "outputs": []
    },
    {
      "cell_type": "code",
      "source": [
        "predictions"
      ],
      "metadata": {
        "colab": {
          "base_uri": "https://localhost:8080/"
        },
        "id": "Na-kDQgeVTbR",
        "outputId": "aaf64ed9-cbd3-42a0-c478-c02d7a1753e6"
      },
      "execution_count": null,
      "outputs": [
        {
          "output_type": "execute_result",
          "data": {
            "text/plain": [
              "array([10918110.89400988,  7233996.8968254 , 10918110.89400988, ...,\n",
              "        6713000.        , 15031815.64713554,  6713000.        ])"
            ]
          },
          "metadata": {},
          "execution_count": 98
        }
      ]
    },
    {
      "cell_type": "code",
      "source": [
        "from sklearn.metrics import mean_absolute_error\n",
        "from sklearn import metrics\n",
        "print(mean_absolute_error(y_test,predictions))\n",
        "print(metrics.mean_absolute_error(y_test,predictions))"
      ],
      "metadata": {
        "colab": {
          "base_uri": "https://localhost:8080/"
        },
        "id": "ZIuhcWMHVXHZ",
        "outputId": "3683f1ee-4b4d-4dab-af1d-c7abd8b2c8e1"
      },
      "execution_count": null,
      "outputs": [
        {
          "output_type": "stream",
          "name": "stdout",
          "text": [
            "2341070.894905854\n",
            "2341070.894905854\n"
          ]
        }
      ]
    },
    {
      "cell_type": "code",
      "source": [
        "rfm=RandomForestRegressor(max_depth=None,min_samples_leaf=5,min_samples_split=6,\n",
        "                          n_estimators=120,verbose=2,n_jobs=-1)"
      ],
      "metadata": {
        "id": "wc2FvJq0V6lc"
      },
      "execution_count": null,
      "outputs": []
    },
    {
      "cell_type": "code",
      "source": [
        "rfm.fit(X_train,y_train)"
      ],
      "metadata": {
        "colab": {
          "base_uri": "https://localhost:8080/",
          "height": 1000
        },
        "id": "XVijOq6DWdbC",
        "outputId": "05c731c0-147b-4053-a8b0-0d943422ccf0"
      },
      "execution_count": null,
      "outputs": [
        {
          "output_type": "stream",
          "name": "stderr",
          "text": [
            "[Parallel(n_jobs=-1)]: Using backend ThreadingBackend with 2 concurrent workers.\n"
          ]
        },
        {
          "output_type": "stream",
          "name": "stdout",
          "text": [
            "building tree 1 of 120\n",
            "building tree 2 of 120\n",
            "building tree 3 of 120\n",
            "building tree 4 of 120\n",
            "building tree 5 of 120\n",
            "building tree 6 of 120\n",
            "building tree 7 of 120\n",
            "building tree 8 of 120\n",
            "building tree 9 of 120\n",
            "building tree 10 of 120\n",
            "building tree 11 of 120\n",
            "building tree 12 of 120\n",
            "building tree 13 of 120\n",
            "building tree 14 of 120\n",
            "building tree 15 of 120\n",
            "building tree 16 of 120\n",
            "building tree 17 of 120\n",
            "building tree 18 of 120\n",
            "building tree 19 of 120\n",
            "building tree 20 of 120\n",
            "building tree 21 of 120\n",
            "building tree 22 of 120\n",
            "building tree 23 of 120\n",
            "building tree 24 of 120\n",
            "building tree 25 of 120\n",
            "building tree 26 of 120\n",
            "building tree 27 of 120\n",
            "building tree 28 of 120\n",
            "building tree 29 of 120\n",
            "building tree 30 of 120\n",
            "building tree 31 of 120\n",
            "building tree 32 of 120\n",
            "building tree 33 of 120\n",
            "building tree 34 of 120\n",
            "building tree 35 of 120\n",
            "building tree 36 of 120\n",
            "building tree 37 of 120\n",
            "building tree 38 of 120\n"
          ]
        },
        {
          "output_type": "stream",
          "name": "stderr",
          "text": [
            "[Parallel(n_jobs=-1)]: Done  37 tasks      | elapsed:   50.2s\n"
          ]
        },
        {
          "output_type": "stream",
          "name": "stdout",
          "text": [
            "building tree 39 of 120\n",
            "building tree 40 of 120\n",
            "building tree 41 of 120\n",
            "building tree 42 of 120\n",
            "building tree 43 of 120\n",
            "building tree 44 of 120\n",
            "building tree 45 of 120\n",
            "building tree 46 of 120\n",
            "building tree 47 of 120\n",
            "building tree 48 of 120\n",
            "building tree 49 of 120\n",
            "building tree 50 of 120\n",
            "building tree 51 of 120\n",
            "building tree 52 of 120\n",
            "building tree 53 of 120\n",
            "building tree 54 of 120\n",
            "building tree 55 of 120\n",
            "building tree 56 of 120\n",
            "building tree 57 of 120\n",
            "building tree 58 of 120\n",
            "building tree 59 of 120\n",
            "building tree 60 of 120\n",
            "building tree 61 of 120\n",
            "building tree 62 of 120\n",
            "building tree 63 of 120\n",
            "building tree 64 of 120\n",
            "building tree 65 of 120\n",
            "building tree 66 of 120\n",
            "building tree 67 of 120\n",
            "building tree 68 of 120\n",
            "building tree 69 of 120\n",
            "building tree 70 of 120\n",
            "building tree 71 of 120\n",
            "building tree 72 of 120\n",
            "building tree 73 of 120\n",
            "building tree 74 of 120\n",
            "building tree 75 of 120\n",
            "building tree 76 of 120building tree 77 of 120\n",
            "\n",
            "building tree 78 of 120\n",
            "building tree 79 of 120\n",
            "building tree 80 of 120\n",
            "building tree 81 of 120\n",
            "building tree 82 of 120\n",
            "building tree 83 of 120\n",
            "building tree 84 of 120\n",
            "building tree 85 of 120\n",
            "building tree 86 of 120\n",
            "building tree 87 of 120\n",
            "building tree 88 of 120\n",
            "building tree 89 of 120\n",
            "building tree 90 of 120\n",
            "building tree 91 of 120\n",
            "building tree 92 of 120\n",
            "building tree 93 of 120\n",
            "building tree 94 of 120\n",
            "building tree 95 of 120\n",
            "building tree 96 of 120\n",
            "building tree 97 of 120\n",
            "building tree 98 of 120\n",
            "building tree 99 of 120\n",
            "building tree 100 of 120\n",
            "building tree 101 of 120\n",
            "building tree 102 of 120\n",
            "building tree 103 of 120\n",
            "building tree 104 of 120\n",
            "building tree 105 of 120\n",
            "building tree 106 of 120\n",
            "building tree 107 of 120\n",
            "building tree 108 of 120\n",
            "building tree 109 of 120\n",
            "building tree 110 of 120\n",
            "building tree 111 of 120\n",
            "building tree 112 of 120\n",
            "building tree 113 of 120\n",
            "building tree 114 of 120\n",
            "building tree 115 of 120\n",
            "building tree 116 of 120\n",
            "building tree 117 of 120\n",
            "building tree 118 of 120\n",
            "building tree 119 of 120\n",
            "building tree 120 of 120\n"
          ]
        },
        {
          "output_type": "stream",
          "name": "stderr",
          "text": [
            "[Parallel(n_jobs=-1)]: Done 120 out of 120 | elapsed:  2.3min finished\n"
          ]
        },
        {
          "output_type": "execute_result",
          "data": {
            "text/plain": [
              "RandomForestRegressor(min_samples_leaf=5, min_samples_split=6, n_estimators=120,\n",
              "                      n_jobs=-1, verbose=2)"
            ],
            "text/html": [
              "<style>#sk-container-id-2 {color: black;}#sk-container-id-2 pre{padding: 0;}#sk-container-id-2 div.sk-toggleable {background-color: white;}#sk-container-id-2 label.sk-toggleable__label {cursor: pointer;display: block;width: 100%;margin-bottom: 0;padding: 0.3em;box-sizing: border-box;text-align: center;}#sk-container-id-2 label.sk-toggleable__label-arrow:before {content: \"▸\";float: left;margin-right: 0.25em;color: #696969;}#sk-container-id-2 label.sk-toggleable__label-arrow:hover:before {color: black;}#sk-container-id-2 div.sk-estimator:hover label.sk-toggleable__label-arrow:before {color: black;}#sk-container-id-2 div.sk-toggleable__content {max-height: 0;max-width: 0;overflow: hidden;text-align: left;background-color: #f0f8ff;}#sk-container-id-2 div.sk-toggleable__content pre {margin: 0.2em;color: black;border-radius: 0.25em;background-color: #f0f8ff;}#sk-container-id-2 input.sk-toggleable__control:checked~div.sk-toggleable__content {max-height: 200px;max-width: 100%;overflow: auto;}#sk-container-id-2 input.sk-toggleable__control:checked~label.sk-toggleable__label-arrow:before {content: \"▾\";}#sk-container-id-2 div.sk-estimator input.sk-toggleable__control:checked~label.sk-toggleable__label {background-color: #d4ebff;}#sk-container-id-2 div.sk-label input.sk-toggleable__control:checked~label.sk-toggleable__label {background-color: #d4ebff;}#sk-container-id-2 input.sk-hidden--visually {border: 0;clip: rect(1px 1px 1px 1px);clip: rect(1px, 1px, 1px, 1px);height: 1px;margin: -1px;overflow: hidden;padding: 0;position: absolute;width: 1px;}#sk-container-id-2 div.sk-estimator {font-family: monospace;background-color: #f0f8ff;border: 1px dotted black;border-radius: 0.25em;box-sizing: border-box;margin-bottom: 0.5em;}#sk-container-id-2 div.sk-estimator:hover {background-color: #d4ebff;}#sk-container-id-2 div.sk-parallel-item::after {content: \"\";width: 100%;border-bottom: 1px solid gray;flex-grow: 1;}#sk-container-id-2 div.sk-label:hover label.sk-toggleable__label {background-color: #d4ebff;}#sk-container-id-2 div.sk-serial::before {content: \"\";position: absolute;border-left: 1px solid gray;box-sizing: border-box;top: 0;bottom: 0;left: 50%;z-index: 0;}#sk-container-id-2 div.sk-serial {display: flex;flex-direction: column;align-items: center;background-color: white;padding-right: 0.2em;padding-left: 0.2em;position: relative;}#sk-container-id-2 div.sk-item {position: relative;z-index: 1;}#sk-container-id-2 div.sk-parallel {display: flex;align-items: stretch;justify-content: center;background-color: white;position: relative;}#sk-container-id-2 div.sk-item::before, #sk-container-id-2 div.sk-parallel-item::before {content: \"\";position: absolute;border-left: 1px solid gray;box-sizing: border-box;top: 0;bottom: 0;left: 50%;z-index: -1;}#sk-container-id-2 div.sk-parallel-item {display: flex;flex-direction: column;z-index: 1;position: relative;background-color: white;}#sk-container-id-2 div.sk-parallel-item:first-child::after {align-self: flex-end;width: 50%;}#sk-container-id-2 div.sk-parallel-item:last-child::after {align-self: flex-start;width: 50%;}#sk-container-id-2 div.sk-parallel-item:only-child::after {width: 0;}#sk-container-id-2 div.sk-dashed-wrapped {border: 1px dashed gray;margin: 0 0.4em 0.5em 0.4em;box-sizing: border-box;padding-bottom: 0.4em;background-color: white;}#sk-container-id-2 div.sk-label label {font-family: monospace;font-weight: bold;display: inline-block;line-height: 1.2em;}#sk-container-id-2 div.sk-label-container {text-align: center;}#sk-container-id-2 div.sk-container {/* jupyter's `normalize.less` sets `[hidden] { display: none; }` but bootstrap.min.css set `[hidden] { display: none !important; }` so we also need the `!important` here to be able to override the default hidden behavior on the sphinx rendered scikit-learn.org. See: https://github.com/scikit-learn/scikit-learn/issues/21755 */display: inline-block !important;position: relative;}#sk-container-id-2 div.sk-text-repr-fallback {display: none;}</style><div id=\"sk-container-id-2\" class=\"sk-top-container\"><div class=\"sk-text-repr-fallback\"><pre>RandomForestRegressor(min_samples_leaf=5, min_samples_split=6, n_estimators=120,\n",
              "                      n_jobs=-1, verbose=2)</pre><b>In a Jupyter environment, please rerun this cell to show the HTML representation or trust the notebook. <br />On GitHub, the HTML representation is unable to render, please try loading this page with nbviewer.org.</b></div><div class=\"sk-container\" hidden><div class=\"sk-item\"><div class=\"sk-estimator sk-toggleable\"><input class=\"sk-toggleable__control sk-hidden--visually\" id=\"sk-estimator-id-2\" type=\"checkbox\" checked><label for=\"sk-estimator-id-2\" class=\"sk-toggleable__label sk-toggleable__label-arrow\">RandomForestRegressor</label><div class=\"sk-toggleable__content\"><pre>RandomForestRegressor(min_samples_leaf=5, min_samples_split=6, n_estimators=120,\n",
              "                      n_jobs=-1, verbose=2)</pre></div></div></div></div></div>"
            ]
          },
          "metadata": {},
          "execution_count": 102
        }
      ]
    },
    {
      "cell_type": "code",
      "source": [
        "print(rfm.score(X_train,y_train))\n",
        "print(rfm.score(X_test,y_test))"
      ],
      "metadata": {
        "colab": {
          "base_uri": "https://localhost:8080/"
        },
        "id": "MbwLd4w-Wj3W",
        "outputId": "cd04a03d-506b-4110-e000-ec8faf439625"
      },
      "execution_count": null,
      "outputs": [
        {
          "output_type": "stream",
          "name": "stderr",
          "text": [
            "[Parallel(n_jobs=2)]: Using backend ThreadingBackend with 2 concurrent workers.\n",
            "[Parallel(n_jobs=2)]: Done  37 tasks      | elapsed:    0.1s\n"
          ]
        },
        {
          "output_type": "stream",
          "name": "stdout",
          "text": [
            "0.6859116637271694\n",
            "0.6359041981550106\n"
          ]
        },
        {
          "output_type": "stream",
          "name": "stderr",
          "text": [
            "[Parallel(n_jobs=2)]: Done 120 out of 120 | elapsed:    0.3s finished\n",
            "[Parallel(n_jobs=2)]: Using backend ThreadingBackend with 2 concurrent workers.\n",
            "[Parallel(n_jobs=2)]: Done  37 tasks      | elapsed:    0.0s\n",
            "[Parallel(n_jobs=2)]: Done 120 out of 120 | elapsed:    0.1s finished\n"
          ]
        }
      ]
    },
    {
      "cell_type": "code",
      "source": [
        "X.columns"
      ],
      "metadata": {
        "colab": {
          "base_uri": "https://localhost:8080/"
        },
        "id": "ulzPA6_oXRCK",
        "outputId": "b79f4353-5d00-46a8-c6f8-a3588c9831dc"
      },
      "execution_count": null,
      "outputs": [
        {
          "output_type": "execute_result",
          "data": {
            "text/plain": [
              "Index(['size', 'bedrooms', 'bathrooms', 'beds', 'baths', 'toilets',\n",
              "       'location_0614N', 'location_0614n', 'location_0619n', 'location_0621J',\n",
              "       ...\n",
              "       'location_yukos', 'property_type_Apartment', 'property_type_Bedsitter',\n",
              "       'property_type_House', 'property_type_Other', 'purchase_type_Rent',\n",
              "       'purchase_type_Sale', 'source_buyrentkenya', 'source_propco_rent',\n",
              "       'source_propco_sale'],\n",
              "      dtype='object', length=3455)"
            ]
          },
          "metadata": {},
          "execution_count": 109
        }
      ]
    },
    {
      "cell_type": "code",
      "source": [
        "test_data=[[2010,120,130,3,1,2,2,2005,45000,0,0,1,0,0,0,0,0,1]]"
      ],
      "metadata": {
        "id": "Vm0Ur0hHXXgV"
      },
      "execution_count": null,
      "outputs": []
    },
    {
      "cell_type": "code",
      "source": [
        "import pandas as pd\n",
        "from sklearn.model_selection import train_test_split\n",
        "from sklearn.ensemble import RandomForestRegressor\n",
        "from sklearn.preprocessing import StandardScaler\n",
        "\n",
        "# Assuming X and y are already defined\n",
        "# Select the first 6 columns\n",
        "X_reduced = X.iloc[:, :6]\n",
        "\n",
        "# Split the data into training and testing sets\n",
        "X_train, X_test, y_train, y_test = train_test_split(X_reduced, y, test_size=0.2, random_state=42)\n",
        "\n",
        "# Scale the data\n",
        "scaler = StandardScaler()\n",
        "X_train_scaled = scaler.fit_transform(X_train)\n",
        "X_test_scaled = scaler.transform(X_test)\n",
        "\n",
        "# Fit the model\n",
        "rfm = RandomForestRegressor()\n",
        "rfm.fit(X_train_scaled, y_train)\n",
        "\n",
        "# Evaluate the model\n",
        "print(\"Training Score:\", rfm.score(X_train_scaled, y_train))\n",
        "print(\"Testing Score:\", rfm.score(X_test_scaled, y_test))\n",
        "\n",
        "# Create predictions\n",
        "predictions = rfm.predict(X_test_scaled)\n",
        "\n",
        "# Print the predictions\n",
        "print(\"Predictions:\", predictions)\n"
      ],
      "metadata": {
        "colab": {
          "base_uri": "https://localhost:8080/"
        },
        "id": "U_m4MlkKYOCV",
        "outputId": "e187a7ec-6d90-4007-f82c-e7124b9d3990"
      },
      "execution_count": null,
      "outputs": [
        {
          "output_type": "stream",
          "name": "stdout",
          "text": [
            "Training Score: 0.30494131905807154\n",
            "Testing Score: 0.24851773727017445\n",
            "Predictions: [ 6686386.74785782  4834632.62687399  6686386.74785782 ...\n",
            " 10581080.21133338  6686386.74785782 12668929.86693792]\n"
          ]
        }
      ]
    },
    {
      "cell_type": "code",
      "source": [
        "import pandas as pd\n",
        "from sklearn.model_selection import train_test_split\n",
        "from sklearn.ensemble import RandomForestRegressor\n",
        "from sklearn.preprocessing import StandardScaler\n",
        "import numpy as np\n",
        "\n",
        "# Fit the model on the full feature set to get feature importances\n",
        "rfm_full = RandomForestRegressor()\n",
        "rfm_full.fit(X, y)\n",
        "\n",
        "# Get feature importances and select the top 6 features\n",
        "importances = rfm_full.feature_importances_\n",
        "indices = np.argsort(importances)[-6:]  # Indices of top 6 features\n",
        "\n",
        "# Select the top 6 features from X\n",
        "X_reduced = X.iloc[:, indices]\n",
        "\n",
        "# Split the data into training and testing sets\n",
        "X_train, X_test, y_train, y_test = train_test_split(X_reduced, y, test_size=0.2, random_state=42)\n",
        "\n",
        "# Scale the data\n",
        "scaler = StandardScaler()\n",
        "X_train_scaled = scaler.fit_transform(X_train)\n",
        "X_test_scaled = scaler.transform(X_test)\n",
        "\n",
        "# Fit the model\n",
        "rfm = RandomForestRegressor()\n",
        "rfm.fit(X_train_scaled, y_train)\n",
        "\n",
        "# Evaluate the model\n",
        "print(\"Training Score:\", rfm.score(X_train_scaled, y_train))\n",
        "print(\"Testing Score:\", rfm.score(X_test_scaled, y_test))\n",
        "\n",
        "# Create predictions\n",
        "predictions = rfm.predict(X_test_scaled)\n",
        "\n",
        "# Print the predictions\n",
        "print(\"Predictions:\", predictions)\n"
      ],
      "metadata": {
        "colab": {
          "base_uri": "https://localhost:8080/"
        },
        "id": "5lhJzQj-ZfCw",
        "outputId": "351129f2-274d-4f6d-b516-61a1b503b6bd"
      },
      "execution_count": null,
      "outputs": [
        {
          "output_type": "stream",
          "name": "stdout",
          "text": [
            "Training Score: 0.531953716620005\n",
            "Testing Score: 0.5352174266830917\n",
            "Predictions: [10876362.82124586  3768865.41498751 10876362.82124586 ...\n",
            " 10396573.72014214 16764829.88244087 12129269.19632064]\n"
          ]
        }
      ]
    },
    {
      "cell_type": "code",
      "source": [
        "pip install -r requirements.txt\n"
      ],
      "metadata": {
        "colab": {
          "base_uri": "https://localhost:8080/"
        },
        "id": "a9TUCLPQfn7_",
        "outputId": "21a3e43f-8fec-49d7-84b4-9d0da6bbbbe7"
      },
      "execution_count": null,
      "outputs": [
        {
          "output_type": "stream",
          "name": "stdout",
          "text": [
            "\u001b[31mERROR: Could not open requirements file: [Errno 2] No such file or directory: 'requirements.txt'\u001b[0m\u001b[31m\n",
            "\u001b[0m"
          ]
        }
      ]
    },
    {
      "cell_type": "code",
      "source": [],
      "metadata": {
        "id": "dkIYTaNegpEn"
      },
      "execution_count": null,
      "outputs": []
    }
  ]
}